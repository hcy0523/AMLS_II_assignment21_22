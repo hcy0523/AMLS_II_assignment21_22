{
 "cells": [
  {
   "cell_type": "code",
   "execution_count": 1,
   "id": "c7438a6e",
   "metadata": {},
   "outputs": [
    {
     "name": "stdout",
     "output_type": "stream",
     "text": [
      "Version:  2.6.0\n",
      "Eager mode:  True\n",
      "GPU is available\n",
      "Reading twitter - 1grams ...\n",
      "Reading twitter - 2grams ...\n",
      "Reading twitter - 1grams ...\n",
      "Reading twitter - 1grams ...\n",
      "Reading twitter - 2grams ...\n",
      "Reading twitter - 1grams ...\n"
     ]
    }
   ],
   "source": [
    "import A.SubtaskA as A\n",
    "import B.SubtaskB as B"
   ]
  },
  {
   "cell_type": "code",
   "execution_count": 2,
   "id": "b7eff8dc",
   "metadata": {},
   "outputs": [],
   "source": [
    "ClassA=A.A()\n",
    "ClassB=B.B()"
   ]
  },
  {
   "cell_type": "code",
   "execution_count": 3,
   "id": "d7687258",
   "metadata": {
    "scrolled": true
   },
   "outputs": [
    {
     "name": "stdout",
     "output_type": "stream",
     "text": [
      "label Distribution for SubtaskA: {('neutral', 1): 10342, ('positive', 2): 7059, ('negative', 0): 3231} \n",
      "\n",
      "All words: 493747\n",
      "Unique words: 22054\n",
      "Top 30 most common words: [('.', 18786), ('the', 17197), (',', 9728), ('to', 9144), ('i', 7607), ('<user>', 7027), ('<url>', 6377), ('in', 6203), ('a', 6176), ('and', 5986), ('on', 5528), ('<number>', 5262), ('of', 5162), ('<repeated>', 5142), ('<hashtag>', 5092), ('</hashtag>', 5092), ('is', 4868), ('for', 4392), ('!', 4391), ('<allcaps>', 4306), ('</allcaps>', 4306), ('it', 4213), ('you', 4037), ('not', 3590), ('may', 3563), ('-', 3550), ('with', 3397), ('be', 3357), ('tomorrow', 2953), ('?', 2787)]\n",
      "\n",
      "This is summary of Word2Vec: Word2Vec(vocab=22054, vector_size=100, alpha=0.025)\n",
      "\n",
      "Train label Distribution: {'negative - 0': 2882, 'neutral - 1': 9301, 'positive - 2': 6385} \n",
      "\n",
      "Test label Distribution: {'negative - 0': 349, 'neutral - 1': 1041, 'positive - 2': 674} \n",
      "\n",
      "Model: \"sequential\"\n",
      "_________________________________________________________________\n",
      "Layer (type)                 Output Shape              Param #   \n",
      "=================================================================\n",
      "embedding (Embedding)        (None, 64, 100)           2205500   \n",
      "_________________________________________________________________\n",
      "spatial_dropout1d (SpatialDr (None, 64, 100)           0         \n",
      "_________________________________________________________________\n",
      "bidirectional (Bidirectional (None, 256)               234496    \n",
      "_________________________________________________________________\n",
      "dense (Dense)                (None, 3)                 771       \n",
      "=================================================================\n",
      "Total params: 2,440,767\n",
      "Trainable params: 235,267\n",
      "Non-trainable params: 2,205,500\n",
      "_________________________________________________________________\n",
      "Epoch 1/50\n",
      "117/117 [==============================] - 6s 21ms/step - loss: 0.9455 - recall: 0.3709 - Accuracy: 0.5374 - precision: 0.5826 - auc: 0.7299 - val_loss: 0.8973 - val_recall: 0.4855 - val_Accuracy: 0.5644 - val_precision: 0.5881 - val_auc: 0.7640\n",
      "Epoch 2/50\n",
      "117/117 [==============================] - 2s 15ms/step - loss: 0.8712 - recall: 0.4829 - Accuracy: 0.5857 - precision: 0.6270 - auc: 0.7782 - val_loss: 0.8286 - val_recall: 0.5358 - val_Accuracy: 0.6123 - val_precision: 0.6467 - val_auc: 0.8045\n",
      "Epoch 3/50\n",
      "117/117 [==============================] - 2s 15ms/step - loss: 0.8424 - recall: 0.5028 - Accuracy: 0.6059 - precision: 0.6472 - auc: 0.7944 - val_loss: 0.8178 - val_recall: 0.5810 - val_Accuracy: 0.6274 - val_precision: 0.6480 - val_auc: 0.8152\n",
      "Epoch 4/50\n",
      "117/117 [==============================] - 2s 14ms/step - loss: 0.8245 - recall: 0.5153 - Accuracy: 0.6091 - precision: 0.6536 - auc: 0.8029 - val_loss: 0.8113 - val_recall: 0.5775 - val_Accuracy: 0.6233 - val_precision: 0.6438 - val_auc: 0.8142\n",
      "Epoch 5/50\n",
      "117/117 [==============================] - 2s 15ms/step - loss: 0.8099 - recall: 0.5341 - Accuracy: 0.6272 - precision: 0.6668 - auc: 0.8118 - val_loss: 0.8177 - val_recall: 0.5827 - val_Accuracy: 0.6354 - val_precision: 0.6592 - val_auc: 0.8189\n",
      "Epoch 6/50\n",
      "117/117 [==============================] - 2s 15ms/step - loss: 0.8043 - recall: 0.5373 - Accuracy: 0.6236 - precision: 0.6623 - auc: 0.8133 - val_loss: 0.8013 - val_recall: 0.5851 - val_Accuracy: 0.6370 - val_precision: 0.6609 - val_auc: 0.8234\n",
      "Epoch 7/50\n",
      "117/117 [==============================] - 2s 15ms/step - loss: 0.7981 - recall: 0.5458 - Accuracy: 0.6310 - precision: 0.6700 - auc: 0.8183 - val_loss: 0.7948 - val_recall: 0.6182 - val_Accuracy: 0.6489 - val_precision: 0.6615 - val_auc: 0.8321\n",
      "Epoch 8/50\n",
      "117/117 [==============================] - 2s 15ms/step - loss: 0.7816 - recall: 0.5601 - Accuracy: 0.6415 - precision: 0.6842 - auc: 0.8268 - val_loss: 0.7819 - val_recall: 0.6090 - val_Accuracy: 0.6532 - val_precision: 0.6758 - val_auc: 0.8323\n",
      "Epoch 9/50\n",
      "117/117 [==============================] - 2s 15ms/step - loss: 0.7831 - recall: 0.5568 - Accuracy: 0.6408 - precision: 0.6831 - auc: 0.8255 - val_loss: 0.7939 - val_recall: 0.6204 - val_Accuracy: 0.6519 - val_precision: 0.6640 - val_auc: 0.8362\n",
      "Epoch 10/50\n",
      "117/117 [==============================] - 2s 15ms/step - loss: 0.7721 - recall: 0.5632 - Accuracy: 0.6405 - precision: 0.6791 - auc: 0.8295 - val_loss: 0.7860 - val_recall: 0.6115 - val_Accuracy: 0.6465 - val_precision: 0.6635 - val_auc: 0.8334\n",
      "Epoch 11/50\n",
      "117/117 [==============================] - 2s 15ms/step - loss: 0.7678 - recall: 0.5704 - Accuracy: 0.6480 - precision: 0.6837 - auc: 0.8320 - val_loss: 0.7578 - val_recall: 0.6080 - val_Accuracy: 0.6581 - val_precision: 0.6811 - val_auc: 0.8408\n",
      "Epoch 12/50\n",
      "117/117 [==============================] - 2s 15ms/step - loss: 0.7631 - recall: 0.5765 - Accuracy: 0.6540 - precision: 0.6909 - auc: 0.8351 - val_loss: 0.7733 - val_recall: 0.6368 - val_Accuracy: 0.6618 - val_precision: 0.6767 - val_auc: 0.8414\n",
      "Epoch 13/50\n",
      "117/117 [==============================] - 2s 15ms/step - loss: 0.7554 - recall: 0.5852 - Accuracy: 0.6550 - precision: 0.6915 - auc: 0.8383 - val_loss: 0.7711 - val_recall: 0.6265 - val_Accuracy: 0.6656 - val_precision: 0.6763 - val_auc: 0.8423\n",
      "Epoch 14/50\n",
      "117/117 [==============================] - 2s 15ms/step - loss: 0.7432 - recall: 0.5935 - Accuracy: 0.6629 - precision: 0.7005 - auc: 0.8439 - val_loss: 0.7842 - val_recall: 0.6287 - val_Accuracy: 0.6559 - val_precision: 0.6700 - val_auc: 0.8402\n",
      "Epoch 15/50\n",
      "117/117 [==============================] - 2s 16ms/step - loss: 0.7459 - recall: 0.5976 - Accuracy: 0.6634 - precision: 0.7005 - auc: 0.8432 - val_loss: 0.7727 - val_recall: 0.6230 - val_Accuracy: 0.6578 - val_precision: 0.6701 - val_auc: 0.8418\n",
      "Epoch 16/50\n",
      "117/117 [==============================] - 2s 15ms/step - loss: 0.7396 - recall: 0.5989 - Accuracy: 0.6666 - precision: 0.7032 - auc: 0.8459 - val_loss: 0.7691 - val_recall: 0.6193 - val_Accuracy: 0.6581 - val_precision: 0.6731 - val_auc: 0.8418\n",
      "Epoch 17/50\n",
      "117/117 [==============================] - 2s 15ms/step - loss: 0.7268 - recall: 0.6103 - Accuracy: 0.6741 - precision: 0.7114 - auc: 0.8513 - val_loss: 0.7725 - val_recall: 0.6179 - val_Accuracy: 0.6572 - val_precision: 0.6772 - val_auc: 0.8409\n",
      "Epoch 18/50\n",
      "117/117 [==============================] - 2s 15ms/step - loss: 0.7297 - recall: 0.6048 - Accuracy: 0.6719 - precision: 0.7075 - auc: 0.8502 - val_loss: 0.7619 - val_recall: 0.6204 - val_Accuracy: 0.6599 - val_precision: 0.6743 - val_auc: 0.8424\n",
      "Epoch 19/50\n",
      "117/117 [==============================] - 2s 15ms/step - loss: 0.7227 - recall: 0.6053 - Accuracy: 0.6750 - precision: 0.7091 - auc: 0.8531 - val_loss: 0.7853 - val_recall: 0.6206 - val_Accuracy: 0.6481 - val_precision: 0.6660 - val_auc: 0.8387\n",
      "Epoch 20/50\n",
      "117/117 [==============================] - 2s 15ms/step - loss: 0.7187 - recall: 0.6118 - Accuracy: 0.6752 - precision: 0.7116 - auc: 0.8548 - val_loss: 0.7703 - val_recall: 0.6435 - val_Accuracy: 0.6624 - val_precision: 0.6772 - val_auc: 0.8477\n",
      "Epoch 21/50\n",
      "117/117 [==============================] - 2s 15ms/step - loss: 0.7175 - recall: 0.6202 - Accuracy: 0.6816 - precision: 0.7136 - auc: 0.8556 - val_loss: 0.7686 - val_recall: 0.6389 - val_Accuracy: 0.6656 - val_precision: 0.6815 - val_auc: 0.8481\n",
      "Epoch 22/50\n",
      "117/117 [==============================] - 2s 15ms/step - loss: 0.7105 - recall: 0.6252 - Accuracy: 0.6844 - precision: 0.7186 - auc: 0.8581 - val_loss: 0.7701 - val_recall: 0.6330 - val_Accuracy: 0.6607 - val_precision: 0.6850 - val_auc: 0.8464\n",
      "Epoch 23/50\n",
      "117/117 [==============================] - 2s 15ms/step - loss: 0.7052 - recall: 0.6231 - Accuracy: 0.6828 - precision: 0.7202 - auc: 0.8606 - val_loss: 0.7878 - val_recall: 0.6467 - val_Accuracy: 0.6648 - val_precision: 0.6740 - val_auc: 0.8470\n",
      "Epoch 24/50\n",
      "117/117 [==============================] - 2s 16ms/step - loss: 0.7048 - recall: 0.6334 - Accuracy: 0.6882 - precision: 0.7240 - auc: 0.8607 - val_loss: 0.7643 - val_recall: 0.6368 - val_Accuracy: 0.6704 - val_precision: 0.6851 - val_auc: 0.8480\n",
      "Epoch 25/50\n",
      "117/117 [==============================] - 2s 16ms/step - loss: 0.7043 - recall: 0.6236 - Accuracy: 0.6846 - precision: 0.7182 - auc: 0.8606 - val_loss: 0.7725 - val_recall: 0.6317 - val_Accuracy: 0.6626 - val_precision: 0.6820 - val_auc: 0.8462\n"
     ]
    },
    {
     "name": "stdout",
     "output_type": "stream",
     "text": [
      "Epoch 26/50\n",
      "117/117 [==============================] - 2s 15ms/step - loss: 0.6979 - recall: 0.6304 - Accuracy: 0.6873 - precision: 0.7208 - auc: 0.8635 - val_loss: 0.7725 - val_recall: 0.6225 - val_Accuracy: 0.6567 - val_precision: 0.6808 - val_auc: 0.8435\n",
      "Epoch 27/50\n",
      "117/117 [==============================] - 2s 16ms/step - loss: 0.7003 - recall: 0.6331 - Accuracy: 0.6900 - precision: 0.7242 - auc: 0.8625 - val_loss: 0.8084 - val_recall: 0.6335 - val_Accuracy: 0.6524 - val_precision: 0.6662 - val_auc: 0.8399\n",
      "Epoch 28/50\n",
      "117/117 [==============================] - 2s 15ms/step - loss: 0.6906 - recall: 0.6367 - Accuracy: 0.6917 - precision: 0.7239 - auc: 0.8664 - val_loss: 0.7861 - val_recall: 0.6397 - val_Accuracy: 0.6605 - val_precision: 0.6750 - val_auc: 0.8440\n",
      "Epoch 29/50\n",
      "117/117 [==============================] - 2s 15ms/step - loss: 0.6913 - recall: 0.6390 - Accuracy: 0.6925 - precision: 0.7258 - auc: 0.8666 - val_loss: 0.7860 - val_recall: 0.6268 - val_Accuracy: 0.6583 - val_precision: 0.6771 - val_auc: 0.8442\n",
      "Epoch 30/50\n",
      "117/117 [==============================] - 2s 15ms/step - loss: 0.6827 - recall: 0.6436 - Accuracy: 0.6947 - precision: 0.7285 - auc: 0.8697 - val_loss: 0.7854 - val_recall: 0.6451 - val_Accuracy: 0.6656 - val_precision: 0.6836 - val_auc: 0.8463\n",
      "Epoch 31/50\n",
      "117/117 [==============================] - 2s 15ms/step - loss: 0.6833 - recall: 0.6441 - Accuracy: 0.6994 - precision: 0.7332 - auc: 0.8696 - val_loss: 0.7757 - val_recall: 0.6357 - val_Accuracy: 0.6610 - val_precision: 0.6784 - val_auc: 0.8481\n",
      "Epoch 32/50\n",
      "117/117 [==============================] - 2s 15ms/step - loss: 0.6826 - recall: 0.6462 - Accuracy: 0.6953 - precision: 0.7302 - auc: 0.8694 - val_loss: 0.7767 - val_recall: 0.6424 - val_Accuracy: 0.6686 - val_precision: 0.6850 - val_auc: 0.8485\n",
      "Epoch 33/50\n",
      "117/117 [==============================] - 2s 15ms/step - loss: 0.6731 - recall: 0.6503 - Accuracy: 0.7035 - precision: 0.7354 - auc: 0.8737 - val_loss: 0.7761 - val_recall: 0.6352 - val_Accuracy: 0.6683 - val_precision: 0.6842 - val_auc: 0.8461\n",
      "Epoch 34/50\n",
      "117/117 [==============================] - 2s 15ms/step - loss: 0.6784 - recall: 0.6505 - Accuracy: 0.7009 - precision: 0.7324 - auc: 0.8715 - val_loss: 0.7848 - val_recall: 0.6292 - val_Accuracy: 0.6651 - val_precision: 0.6851 - val_auc: 0.8453\n",
      "Epoch 35/50\n",
      "117/117 [==============================] - 2s 15ms/step - loss: 0.6743 - recall: 0.6499 - Accuracy: 0.7030 - precision: 0.7354 - auc: 0.8733 - val_loss: 0.7768 - val_recall: 0.6405 - val_Accuracy: 0.6664 - val_precision: 0.6844 - val_auc: 0.8488\n",
      "Epoch 36/50\n",
      "117/117 [==============================] - 2s 15ms/step - loss: 0.6717 - recall: 0.6470 - Accuracy: 0.7010 - precision: 0.7324 - auc: 0.8735 - val_loss: 0.7777 - val_recall: 0.6400 - val_Accuracy: 0.6659 - val_precision: 0.6876 - val_auc: 0.8491\n",
      "Epoch 37/50\n",
      "117/117 [==============================] - 2s 15ms/step - loss: 0.6630 - recall: 0.6563 - Accuracy: 0.7098 - precision: 0.7401 - auc: 0.8774 - val_loss: 0.7990 - val_recall: 0.6500 - val_Accuracy: 0.6702 - val_precision: 0.6833 - val_auc: 0.8491\n",
      "Epoch 38/50\n",
      "117/117 [==============================] - 2s 15ms/step - loss: 0.6664 - recall: 0.6578 - Accuracy: 0.7086 - precision: 0.7384 - auc: 0.8763 - val_loss: 0.7841 - val_recall: 0.6427 - val_Accuracy: 0.6704 - val_precision: 0.6867 - val_auc: 0.8482\n",
      "Epoch 39/50\n",
      "117/117 [==============================] - 2s 15ms/step - loss: 0.6629 - recall: 0.6558 - Accuracy: 0.7049 - precision: 0.7373 - auc: 0.8769 - val_loss: 0.7849 - val_recall: 0.6470 - val_Accuracy: 0.6734 - val_precision: 0.6874 - val_auc: 0.8501\n",
      "Epoch 40/50\n",
      "117/117 [==============================] - 2s 15ms/step - loss: 0.6599 - recall: 0.6579 - Accuracy: 0.7052 - precision: 0.7370 - auc: 0.8784 - val_loss: 0.7726 - val_recall: 0.6408 - val_Accuracy: 0.6675 - val_precision: 0.6871 - val_auc: 0.8473\n",
      "Epoch 41/50\n",
      "117/117 [==============================] - 2s 15ms/step - loss: 0.6567 - recall: 0.6586 - Accuracy: 0.7090 - precision: 0.7392 - auc: 0.8795 - val_loss: 0.7883 - val_recall: 0.6470 - val_Accuracy: 0.6715 - val_precision: 0.6848 - val_auc: 0.8498\n",
      "Epoch 42/50\n",
      "117/117 [==============================] - 2s 15ms/step - loss: 0.6614 - recall: 0.6604 - Accuracy: 0.7063 - precision: 0.7395 - auc: 0.8779 - val_loss: 0.7961 - val_recall: 0.6535 - val_Accuracy: 0.6702 - val_precision: 0.6850 - val_auc: 0.8485\n",
      "Epoch 43/50\n",
      "117/117 [==============================] - 2s 15ms/step - loss: 0.6540 - recall: 0.6627 - Accuracy: 0.7103 - precision: 0.7420 - auc: 0.8808 - val_loss: 0.8098 - val_recall: 0.6492 - val_Accuracy: 0.6721 - val_precision: 0.6830 - val_auc: 0.8451\n",
      "Epoch 44/50\n",
      "117/117 [==============================] - 2s 15ms/step - loss: 0.6520 - recall: 0.6682 - Accuracy: 0.7102 - precision: 0.7414 - auc: 0.8814 - val_loss: 0.8129 - val_recall: 0.6548 - val_Accuracy: 0.6737 - val_precision: 0.6874 - val_auc: 0.8468\n",
      "Epoch 45/50\n",
      "117/117 [==============================] - 2s 15ms/step - loss: 0.6473 - recall: 0.6716 - Accuracy: 0.7183 - precision: 0.7481 - auc: 0.8833 - val_loss: 0.8177 - val_recall: 0.6486 - val_Accuracy: 0.6683 - val_precision: 0.6813 - val_auc: 0.8457\n",
      "Epoch 46/50\n",
      "117/117 [==============================] - 2s 15ms/step - loss: 0.6479 - recall: 0.6717 - Accuracy: 0.7175 - precision: 0.7461 - auc: 0.8830 - val_loss: 0.8021 - val_recall: 0.6411 - val_Accuracy: 0.6648 - val_precision: 0.6815 - val_auc: 0.8462\n",
      "Epoch 47/50\n",
      "117/117 [==============================] - 2s 15ms/step - loss: 0.6430 - recall: 0.6697 - Accuracy: 0.7168 - precision: 0.7438 - auc: 0.8847 - val_loss: 0.8246 - val_recall: 0.6513 - val_Accuracy: 0.6696 - val_precision: 0.6831 - val_auc: 0.8456\n",
      "Epoch 48/50\n",
      "117/117 [==============================] - 2s 15ms/step - loss: 0.6446 - recall: 0.6713 - Accuracy: 0.7181 - precision: 0.7461 - auc: 0.8846 - val_loss: 0.8157 - val_recall: 0.6416 - val_Accuracy: 0.6632 - val_precision: 0.6793 - val_auc: 0.8450\n",
      "Epoch 49/50\n",
      "117/117 [==============================] - 2s 15ms/step - loss: 0.6334 - recall: 0.6764 - Accuracy: 0.7190 - precision: 0.7490 - auc: 0.8879 - val_loss: 0.8441 - val_recall: 0.6454 - val_Accuracy: 0.6648 - val_precision: 0.6771 - val_auc: 0.8445\n",
      "Epoch 50/50\n",
      "117/117 [==============================] - 2s 16ms/step - loss: 0.6358 - recall: 0.6771 - Accuracy: 0.7183 - precision: 0.7497 - auc: 0.8877 - val_loss: 0.8040 - val_recall: 0.6457 - val_Accuracy: 0.6688 - val_precision: 0.6834 - val_auc: 0.8459\n"
     ]
    }
   ],
   "source": [
    "# Load data\n",
    "address='Datasets/A/twitter-2016A.txt'\n",
    "window=5 \n",
    "min_count=1 \n",
    "Word_epochs=100 \n",
    "maxlen=64 \n",
    "Train_epoch=50 \n",
    "batch_size=128\n",
    "test_size=0.1\n",
    "validation_split=0.2\n",
    "epochOfModel=27 # save model in 27th epoch.\n",
    "\n",
    "X_train_A, X_test_A, Y_train_A, Y_test_A,vocab,embed_dict = ClassA.Final_PreProcess(address,window,min_count,Word_epochs,maxlen,test_size)\n",
    "\n",
    "model_A = ClassA.model_build(vocab,embed_dict,maxlen)\n",
    "\n",
    "train_acc_A, val_acc_A,train_los_A,val_los_A, history_A = ClassA.model_train(X_train_A, Y_train_A,model_A,validation_split,batch_size,Train_epoch,epochOfModel)\n",
    "\n",
    "Y_pred_A,Metrics_A,Confusion_Matrix_A,report_A = ClassA.pred_eval(model_A,X_test_A, Y_test_A)\n",
    "\n",
    "# ClassA.sketch_model(history_A,Confusion_Matrix_A)\n",
    "Accuracy_A=ClassA.Accuracy(train_acc_A, val_acc_A,Metrics_A,'A')"
   ]
  },
  {
   "cell_type": "code",
   "execution_count": 4,
   "id": "2e408fc1",
   "metadata": {},
   "outputs": [
    {
     "data": {
      "text/html": [
       "<div>\n",
       "<style scoped>\n",
       "    .dataframe tbody tr th:only-of-type {\n",
       "        vertical-align: middle;\n",
       "    }\n",
       "\n",
       "    .dataframe tbody tr th {\n",
       "        vertical-align: top;\n",
       "    }\n",
       "\n",
       "    .dataframe thead th {\n",
       "        text-align: right;\n",
       "    }\n",
       "</style>\n",
       "<table border=\"1\" class=\"dataframe\">\n",
       "  <thead>\n",
       "    <tr style=\"text-align: right;\">\n",
       "      <th></th>\n",
       "      <th>Training</th>\n",
       "      <th>Validation</th>\n",
       "      <th>Test</th>\n",
       "    </tr>\n",
       "  </thead>\n",
       "  <tbody>\n",
       "    <tr>\n",
       "      <th>Accuracy of A</th>\n",
       "      <td>0.691733</td>\n",
       "      <td>0.660474</td>\n",
       "      <td>0.653585</td>\n",
       "    </tr>\n",
       "  </tbody>\n",
       "</table>\n",
       "</div>"
      ],
      "text/plain": [
       "               Training  Validation      Test\n",
       "Accuracy of A  0.691733    0.660474  0.653585"
      ]
     },
     "execution_count": 4,
     "metadata": {},
     "output_type": "execute_result"
    }
   ],
   "source": [
    "Accuracy_A"
   ]
  },
  {
   "cell_type": "code",
   "execution_count": 5,
   "id": "3a449ef8",
   "metadata": {},
   "outputs": [
    {
     "data": {
      "text/html": [
       "<div>\n",
       "<style scoped>\n",
       "    .dataframe tbody tr th:only-of-type {\n",
       "        vertical-align: middle;\n",
       "    }\n",
       "\n",
       "    .dataframe tbody tr th {\n",
       "        vertical-align: top;\n",
       "    }\n",
       "\n",
       "    .dataframe thead th {\n",
       "        text-align: right;\n",
       "    }\n",
       "</style>\n",
       "<table border=\"1\" class=\"dataframe\">\n",
       "  <thead>\n",
       "    <tr style=\"text-align: right;\">\n",
       "      <th></th>\n",
       "      <th>Recall</th>\n",
       "      <th>Accuracy</th>\n",
       "      <th>precision</th>\n",
       "      <th>F1_Score</th>\n",
       "    </tr>\n",
       "  </thead>\n",
       "  <tbody>\n",
       "    <tr>\n",
       "      <th>Y_Predict</th>\n",
       "      <td>0.605928</td>\n",
       "      <td>0.653585</td>\n",
       "      <td>0.621389</td>\n",
       "      <td>0.609923</td>\n",
       "    </tr>\n",
       "  </tbody>\n",
       "</table>\n",
       "</div>"
      ],
      "text/plain": [
       "             Recall  Accuracy  precision  F1_Score\n",
       "Y_Predict  0.605928  0.653585   0.621389  0.609923"
      ]
     },
     "execution_count": 5,
     "metadata": {},
     "output_type": "execute_result"
    }
   ],
   "source": [
    "Metrics_A"
   ]
  },
  {
   "cell_type": "code",
   "execution_count": 6,
   "id": "156a1071",
   "metadata": {},
   "outputs": [
    {
     "name": "stdout",
     "output_type": "stream",
     "text": [
      "              precision    recall  f1-score   support\n",
      "\n",
      "  negative:0       0.53      0.40      0.46       349\n",
      "   neutral:1       0.69      0.69      0.69      1041\n",
      "  positive:2       0.64      0.72      0.68       674\n",
      "\n",
      "    accuracy                           0.65      2064\n",
      "   macro avg       0.62      0.61      0.61      2064\n",
      "weighted avg       0.65      0.65      0.65      2064\n",
      "\n"
     ]
    }
   ],
   "source": [
    "print(report_A)"
   ]
  },
  {
   "cell_type": "code",
   "execution_count": 7,
   "id": "26f1b5c6",
   "metadata": {
    "scrolled": true
   },
   "outputs": [
    {
     "name": "stdout",
     "output_type": "stream",
     "text": [
      "label Distribution for SubtaskB: {('positive', 1): 8212, ('negative', 0): 2339} \n",
      "\n",
      "Unique Topics: 100\n",
      "\n",
      "All words: 270897\n",
      "Unique words: 14251\n",
      "Top 30 most common words: [('.', 9717), ('the', 8674), ('to', 4925), (',', 4803), ('i', 4709), ('<user>', 3385), ('a', 3298), ('and', 3226), ('!', 3152), ('in', 2985), ('<url>', 2814), ('is', 2712), ('of', 2673), ('on', 2633), ('<repeated>', 2578), ('<hashtag>', 2537), ('</hashtag>', 2537), ('<number>', 2336), ('it', 2291), ('for', 2245), ('<allcaps>', 2193), ('</allcaps>', 2193), ('you', 2183), ('be', 1883), ('may', 1849), ('tomorrow', 1819), ('-', 1794), ('not', 1771), ('with', 1726), ('day', 1581)]\n",
      "\n",
      "This is summary of Word2Vec: Word2Vec(vocab=14251, vector_size=100, alpha=0.025)\n",
      "\n",
      "Train label Distribution: {'negative - 0': 2114, 'positive - 1': 7381} \n",
      "\n",
      "Test label Distribution: {'negative - 0': 225, 'positive - 1': 831} \n",
      "\n",
      "Model: \"sequential_1\"\n",
      "_________________________________________________________________\n",
      "Layer (type)                 Output Shape              Param #   \n",
      "=================================================================\n",
      "embedding_1 (Embedding)      (None, 100, 100)          1425200   \n",
      "_________________________________________________________________\n",
      "spatial_dropout1d_1 (Spatial (None, 100, 100)          0         \n",
      "_________________________________________________________________\n",
      "bidirectional_1 (Bidirection (None, 128)               84480     \n",
      "_________________________________________________________________\n",
      "dense_1 (Dense)              (None, 2)                 258       \n",
      "=================================================================\n",
      "Total params: 1,509,938\n",
      "Trainable params: 84,738\n",
      "Non-trainable params: 1,425,200\n",
      "_________________________________________________________________\n",
      "Epoch 1/50\n",
      "60/60 [==============================] - 3s 26ms/step - loss: 0.5339 - Accuracy: 0.7520 - auc: 0.8073 - val_loss: 0.4207 - val_Accuracy: 0.7994 - val_auc: 0.8927\n",
      "Epoch 2/50\n",
      "60/60 [==============================] - 1s 15ms/step - loss: 0.4212 - Accuracy: 0.8123 - auc: 0.8884 - val_loss: 0.3781 - val_Accuracy: 0.8599 - val_auc: 0.9206\n",
      "Epoch 3/50\n",
      "60/60 [==============================] - 1s 15ms/step - loss: 0.3791 - Accuracy: 0.8365 - auc: 0.9107 - val_loss: 0.3543 - val_Accuracy: 0.8562 - val_auc: 0.9287\n",
      "Epoch 4/50\n",
      "60/60 [==============================] - 1s 16ms/step - loss: 0.3635 - Accuracy: 0.8429 - auc: 0.9180 - val_loss: 0.3459 - val_Accuracy: 0.8662 - val_auc: 0.9329\n",
      "Epoch 5/50\n",
      "60/60 [==============================] - 1s 16ms/step - loss: 0.3843 - Accuracy: 0.8244 - auc: 0.9079 - val_loss: 0.3392 - val_Accuracy: 0.8573 - val_auc: 0.9339\n",
      "Epoch 6/50\n",
      "60/60 [==============================] - 1s 16ms/step - loss: 0.3503 - Accuracy: 0.8498 - auc: 0.9239 - val_loss: 0.3219 - val_Accuracy: 0.8647 - val_auc: 0.9387\n",
      "Epoch 7/50\n",
      "60/60 [==============================] - 1s 15ms/step - loss: 0.3303 - Accuracy: 0.8606 - auc: 0.9325 - val_loss: 0.3128 - val_Accuracy: 0.8699 - val_auc: 0.9417\n",
      "Epoch 8/50\n",
      "60/60 [==============================] - 1s 15ms/step - loss: 0.3341 - Accuracy: 0.8599 - auc: 0.9310 - val_loss: 0.3153 - val_Accuracy: 0.8715 - val_auc: 0.9423\n",
      "Epoch 9/50\n",
      "60/60 [==============================] - 1s 15ms/step - loss: 0.3256 - Accuracy: 0.8607 - auc: 0.9346 - val_loss: 0.3047 - val_Accuracy: 0.8715 - val_auc: 0.9449\n",
      "Epoch 10/50\n",
      "60/60 [==============================] - 1s 15ms/step - loss: 0.3160 - Accuracy: 0.8672 - auc: 0.9384 - val_loss: 0.3068 - val_Accuracy: 0.8752 - val_auc: 0.9446\n",
      "Epoch 11/50\n",
      "60/60 [==============================] - 1s 16ms/step - loss: 0.3066 - Accuracy: 0.8706 - auc: 0.9424 - val_loss: 0.3057 - val_Accuracy: 0.8699 - val_auc: 0.9436\n",
      "Epoch 12/50\n",
      "60/60 [==============================] - 1s 16ms/step - loss: 0.3076 - Accuracy: 0.8653 - auc: 0.9418 - val_loss: 0.3089 - val_Accuracy: 0.8752 - val_auc: 0.9454\n",
      "Epoch 13/50\n",
      "60/60 [==============================] - 1s 15ms/step - loss: 0.3042 - Accuracy: 0.8710 - auc: 0.9432 - val_loss: 0.3081 - val_Accuracy: 0.8752 - val_auc: 0.9446\n",
      "Epoch 14/50\n",
      "60/60 [==============================] - 1s 15ms/step - loss: 0.2978 - Accuracy: 0.8691 - auc: 0.9456 - val_loss: 0.3191 - val_Accuracy: 0.8705 - val_auc: 0.9433\n",
      "Epoch 15/50\n",
      "60/60 [==============================] - 1s 16ms/step - loss: 0.2937 - Accuracy: 0.8782 - auc: 0.9471 - val_loss: 0.3042 - val_Accuracy: 0.8794 - val_auc: 0.9473\n",
      "Epoch 16/50\n",
      "60/60 [==============================] - 1s 15ms/step - loss: 0.2899 - Accuracy: 0.8751 - auc: 0.9485 - val_loss: 0.3163 - val_Accuracy: 0.8668 - val_auc: 0.9407\n",
      "Epoch 17/50\n",
      "60/60 [==============================] - 1s 15ms/step - loss: 0.2857 - Accuracy: 0.8741 - auc: 0.9500 - val_loss: 0.3052 - val_Accuracy: 0.8684 - val_auc: 0.9449\n",
      "Epoch 18/50\n",
      "60/60 [==============================] - 1s 15ms/step - loss: 0.2838 - Accuracy: 0.8772 - auc: 0.9508 - val_loss: 0.3039 - val_Accuracy: 0.8773 - val_auc: 0.9468\n",
      "Epoch 19/50\n",
      "60/60 [==============================] - 1s 15ms/step - loss: 0.2792 - Accuracy: 0.8774 - auc: 0.9522 - val_loss: 0.2963 - val_Accuracy: 0.8773 - val_auc: 0.9488\n",
      "Epoch 20/50\n",
      "60/60 [==============================] - 1s 15ms/step - loss: 0.2743 - Accuracy: 0.8826 - auc: 0.9538 - val_loss: 0.3144 - val_Accuracy: 0.8673 - val_auc: 0.9435\n",
      "Epoch 21/50\n",
      "60/60 [==============================] - 1s 15ms/step - loss: 0.2741 - Accuracy: 0.8835 - auc: 0.9538 - val_loss: 0.2974 - val_Accuracy: 0.8710 - val_auc: 0.9476\n",
      "Epoch 22/50\n",
      "60/60 [==============================] - 1s 15ms/step - loss: 0.2768 - Accuracy: 0.8799 - auc: 0.9530 - val_loss: 0.3051 - val_Accuracy: 0.8810 - val_auc: 0.9481\n",
      "Epoch 23/50\n",
      "60/60 [==============================] - 1s 15ms/step - loss: 0.2653 - Accuracy: 0.8841 - auc: 0.9568 - val_loss: 0.3017 - val_Accuracy: 0.8784 - val_auc: 0.9483\n",
      "Epoch 24/50\n",
      "60/60 [==============================] - 1s 15ms/step - loss: 0.2568 - Accuracy: 0.8888 - auc: 0.9595 - val_loss: 0.3056 - val_Accuracy: 0.8805 - val_auc: 0.9479\n",
      "Epoch 25/50\n",
      "60/60 [==============================] - 1s 15ms/step - loss: 0.2572 - Accuracy: 0.8915 - auc: 0.9593 - val_loss: 0.3187 - val_Accuracy: 0.8763 - val_auc: 0.9471\n",
      "Epoch 26/50\n",
      "60/60 [==============================] - 1s 15ms/step - loss: 0.2564 - Accuracy: 0.8915 - auc: 0.9596 - val_loss: 0.2997 - val_Accuracy: 0.8794 - val_auc: 0.9495\n",
      "Epoch 27/50\n",
      "60/60 [==============================] - 1s 15ms/step - loss: 0.2480 - Accuracy: 0.8971 - auc: 0.9622 - val_loss: 0.2999 - val_Accuracy: 0.8815 - val_auc: 0.9510\n",
      "Epoch 28/50\n",
      "60/60 [==============================] - 1s 15ms/step - loss: 0.2465 - Accuracy: 0.8969 - auc: 0.9626 - val_loss: 0.3057 - val_Accuracy: 0.8752 - val_auc: 0.9471\n",
      "Epoch 29/50\n",
      "60/60 [==============================] - 1s 16ms/step - loss: 0.2478 - Accuracy: 0.8963 - auc: 0.9622 - val_loss: 0.2980 - val_Accuracy: 0.8752 - val_auc: 0.9496\n",
      "Epoch 30/50\n",
      "60/60 [==============================] - 1s 15ms/step - loss: 0.2444 - Accuracy: 0.8965 - auc: 0.9633 - val_loss: 0.3153 - val_Accuracy: 0.8789 - val_auc: 0.9471\n",
      "Epoch 31/50\n",
      "60/60 [==============================] - 1s 16ms/step - loss: 0.2499 - Accuracy: 0.8931 - auc: 0.9616 - val_loss: 0.3087 - val_Accuracy: 0.8736 - val_auc: 0.9471\n",
      "Epoch 32/50\n",
      "60/60 [==============================] - 1s 16ms/step - loss: 0.2371 - Accuracy: 0.8997 - auc: 0.9656 - val_loss: 0.3213 - val_Accuracy: 0.8720 - val_auc: 0.9434\n",
      "Epoch 33/50\n",
      "60/60 [==============================] - 1s 15ms/step - loss: 0.2358 - Accuracy: 0.8997 - auc: 0.9657 - val_loss: 0.3335 - val_Accuracy: 0.8689 - val_auc: 0.9411\n",
      "Epoch 34/50\n",
      "60/60 [==============================] - 1s 16ms/step - loss: 0.2353 - Accuracy: 0.8992 - auc: 0.9660 - val_loss: 0.3094 - val_Accuracy: 0.8726 - val_auc: 0.9462\n",
      "Epoch 35/50\n",
      "60/60 [==============================] - 1s 16ms/step - loss: 0.2336 - Accuracy: 0.8977 - auc: 0.9666 - val_loss: 0.3106 - val_Accuracy: 0.8805 - val_auc: 0.9475\n",
      "Epoch 36/50\n",
      "60/60 [==============================] - 1s 15ms/step - loss: 0.2367 - Accuracy: 0.9013 - auc: 0.9654 - val_loss: 0.3311 - val_Accuracy: 0.8589 - val_auc: 0.9391\n",
      "Epoch 37/50\n",
      "60/60 [==============================] - 1s 15ms/step - loss: 0.2323 - Accuracy: 0.9040 - auc: 0.9669 - val_loss: 0.3261 - val_Accuracy: 0.8694 - val_auc: 0.9440\n"
     ]
    },
    {
     "name": "stdout",
     "output_type": "stream",
     "text": [
      "Epoch 38/50\n",
      "60/60 [==============================] - 1s 15ms/step - loss: 0.2298 - Accuracy: 0.9076 - auc: 0.9675 - val_loss: 0.3137 - val_Accuracy: 0.8773 - val_auc: 0.9490\n",
      "Epoch 39/50\n",
      "60/60 [==============================] - 1s 15ms/step - loss: 0.2289 - Accuracy: 0.9056 - auc: 0.9679 - val_loss: 0.3217 - val_Accuracy: 0.8763 - val_auc: 0.9445\n",
      "Epoch 40/50\n",
      "60/60 [==============================] - 1s 15ms/step - loss: 0.2319 - Accuracy: 0.9017 - auc: 0.9670 - val_loss: 0.3369 - val_Accuracy: 0.8757 - val_auc: 0.9431\n",
      "Epoch 41/50\n",
      "60/60 [==============================] - 1s 15ms/step - loss: 0.2180 - Accuracy: 0.9103 - auc: 0.9708 - val_loss: 0.3319 - val_Accuracy: 0.8773 - val_auc: 0.9453\n",
      "Epoch 42/50\n",
      "60/60 [==============================] - 1s 16ms/step - loss: 0.2145 - Accuracy: 0.9102 - auc: 0.9718 - val_loss: 0.3471 - val_Accuracy: 0.8726 - val_auc: 0.9420\n",
      "Epoch 43/50\n",
      "60/60 [==============================] - 1s 15ms/step - loss: 0.2192 - Accuracy: 0.9053 - auc: 0.9705 - val_loss: 0.3384 - val_Accuracy: 0.8699 - val_auc: 0.9414\n",
      "Epoch 44/50\n",
      "60/60 [==============================] - 1s 15ms/step - loss: 0.2103 - Accuracy: 0.9152 - auc: 0.9729 - val_loss: 0.3296 - val_Accuracy: 0.8810 - val_auc: 0.9450\n",
      "Epoch 45/50\n",
      "60/60 [==============================] - 1s 15ms/step - loss: 0.2135 - Accuracy: 0.9130 - auc: 0.9720 - val_loss: 0.3363 - val_Accuracy: 0.8863 - val_auc: 0.9458\n",
      "Epoch 46/50\n",
      "60/60 [==============================] - 1s 16ms/step - loss: 0.2170 - Accuracy: 0.9073 - auc: 0.9708 - val_loss: 0.3227 - val_Accuracy: 0.8820 - val_auc: 0.9471\n",
      "Epoch 47/50\n",
      "60/60 [==============================] - 1s 15ms/step - loss: 0.2093 - Accuracy: 0.9128 - auc: 0.9731 - val_loss: 0.3294 - val_Accuracy: 0.8752 - val_auc: 0.9432\n",
      "Epoch 48/50\n",
      "60/60 [==============================] - 1s 16ms/step - loss: 0.2088 - Accuracy: 0.9125 - auc: 0.9733 - val_loss: 0.3386 - val_Accuracy: 0.8720 - val_auc: 0.9439\n",
      "Epoch 49/50\n",
      "60/60 [==============================] - 1s 15ms/step - loss: 0.2138 - Accuracy: 0.9105 - auc: 0.9720 - val_loss: 0.3376 - val_Accuracy: 0.8684 - val_auc: 0.9439\n",
      "Epoch 50/50\n",
      "60/60 [==============================] - 1s 15ms/step - loss: 0.2110 - Accuracy: 0.9092 - auc: 0.9726 - val_loss: 0.3332 - val_Accuracy: 0.8715 - val_auc: 0.9437\n"
     ]
    }
   ],
   "source": [
    "# Load data\n",
    "address='Datasets/B/twitter-2016B.txt'\n",
    "window=5 \n",
    "min_count=1 \n",
    "Word_epochs=100 \n",
    "maxlen=100 \n",
    "Train_epoch=50 \n",
    "batch_size=128\n",
    "test_size=0.1\n",
    "validation_split=0.2\n",
    "epochOfModel=23 # save model in 23th epoch.\n",
    "\n",
    "X_train_B, X_test_B, Y_train_B, Y_test_B,vocab,embed_dict = ClassB.Final_PreProcess(address,window,min_count,Word_epochs,maxlen,test_size)\n",
    "\n",
    "model_B = ClassB.model_build(vocab,embed_dict,maxlen)\n",
    "\n",
    "train_acc_B, val_acc_B,train_los_B,val_los_B, history_B = ClassB.model_train(X_train_B, Y_train_B,model_B,validation_split,batch_size,Train_epoch,epochOfModel)\n",
    "\n",
    "Y_pred_B,Metrics_B,Confusion_Matrix_B,report_B = ClassB.pred_eval(model_B,X_test_B, Y_test_B)\n",
    "\n",
    "# ClassB.sketch_model(history_B,Confusion_Matrix_B)\n",
    "\n",
    "Accuracy_B=ClassB.Accuracy(train_acc_B, val_acc_B,Metrics_B,'B')"
   ]
  },
  {
   "cell_type": "code",
   "execution_count": 8,
   "id": "31ea8c07",
   "metadata": {},
   "outputs": [
    {
     "data": {
      "text/html": [
       "<div>\n",
       "<style scoped>\n",
       "    .dataframe tbody tr th:only-of-type {\n",
       "        vertical-align: middle;\n",
       "    }\n",
       "\n",
       "    .dataframe tbody tr th {\n",
       "        vertical-align: top;\n",
       "    }\n",
       "\n",
       "    .dataframe thead th {\n",
       "        text-align: right;\n",
       "    }\n",
       "</style>\n",
       "<table border=\"1\" class=\"dataframe\">\n",
       "  <thead>\n",
       "    <tr style=\"text-align: right;\">\n",
       "      <th></th>\n",
       "      <th>Training</th>\n",
       "      <th>Validation</th>\n",
       "      <th>Test</th>\n",
       "    </tr>\n",
       "  </thead>\n",
       "  <tbody>\n",
       "    <tr>\n",
       "      <th>Accuracy of B</th>\n",
       "      <td>0.888757</td>\n",
       "      <td>0.880463</td>\n",
       "      <td>0.872159</td>\n",
       "    </tr>\n",
       "  </tbody>\n",
       "</table>\n",
       "</div>"
      ],
      "text/plain": [
       "               Training  Validation      Test\n",
       "Accuracy of B  0.888757    0.880463  0.872159"
      ]
     },
     "execution_count": 8,
     "metadata": {},
     "output_type": "execute_result"
    }
   ],
   "source": [
    "Accuracy_B"
   ]
  },
  {
   "cell_type": "code",
   "execution_count": 9,
   "id": "ad6426d0",
   "metadata": {},
   "outputs": [
    {
     "data": {
      "text/html": [
       "<div>\n",
       "<style scoped>\n",
       "    .dataframe tbody tr th:only-of-type {\n",
       "        vertical-align: middle;\n",
       "    }\n",
       "\n",
       "    .dataframe tbody tr th {\n",
       "        vertical-align: top;\n",
       "    }\n",
       "\n",
       "    .dataframe thead th {\n",
       "        text-align: right;\n",
       "    }\n",
       "</style>\n",
       "<table border=\"1\" class=\"dataframe\">\n",
       "  <thead>\n",
       "    <tr style=\"text-align: right;\">\n",
       "      <th></th>\n",
       "      <th>Recall</th>\n",
       "      <th>Accuracy</th>\n",
       "      <th>precision</th>\n",
       "      <th>F1_Score</th>\n",
       "    </tr>\n",
       "  </thead>\n",
       "  <tbody>\n",
       "    <tr>\n",
       "      <th>Y_Predict</th>\n",
       "      <td>0.916968</td>\n",
       "      <td>0.872159</td>\n",
       "      <td>0.92029</td>\n",
       "      <td>0.918626</td>\n",
       "    </tr>\n",
       "  </tbody>\n",
       "</table>\n",
       "</div>"
      ],
      "text/plain": [
       "             Recall  Accuracy  precision  F1_Score\n",
       "Y_Predict  0.916968  0.872159    0.92029  0.918626"
      ]
     },
     "execution_count": 9,
     "metadata": {},
     "output_type": "execute_result"
    }
   ],
   "source": [
    "Metrics_B"
   ]
  },
  {
   "cell_type": "code",
   "execution_count": 10,
   "id": "db72fe2b",
   "metadata": {},
   "outputs": [
    {
     "name": "stdout",
     "output_type": "stream",
     "text": [
      "              precision    recall  f1-score   support\n",
      "\n",
      "  negative:0       0.70      0.71      0.70       225\n",
      "  positive:1       0.92      0.92      0.92       831\n",
      "\n",
      "    accuracy                           0.87      1056\n",
      "   macro avg       0.81      0.81      0.81      1056\n",
      "weighted avg       0.87      0.87      0.87      1056\n",
      "\n"
     ]
    }
   ],
   "source": [
    "print(report_B)"
   ]
  },
  {
   "cell_type": "code",
   "execution_count": 11,
   "id": "a8a7f5ee",
   "metadata": {},
   "outputs": [],
   "source": [
    "test_acc_A=Metrics_A.loc['Y_Predict','Accuracy']\n",
    "test_acc_B=Metrics_B.loc['Y_Predict','Accuracy']"
   ]
  },
  {
   "cell_type": "code",
   "execution_count": 12,
   "id": "0396d290",
   "metadata": {
    "scrolled": true
   },
   "outputs": [
    {
     "name": "stdout",
     "output_type": "stream",
     "text": [
      "TA:0.6917328834533691,0.6535852713178295;TB:0.8887572288513184,0.8721590909090909;\n"
     ]
    }
   ],
   "source": [
    "print('TA:{},{};TB:{},{};'.format(train_acc_A, test_acc_A,\n",
    "                                                        train_acc_B, test_acc_B))"
   ]
  },
  {
   "cell_type": "code",
   "execution_count": 13,
   "id": "ea50c9db",
   "metadata": {},
   "outputs": [],
   "source": [
    "from collections import Counter"
   ]
  },
  {
   "cell_type": "code",
   "execution_count": 14,
   "id": "85a0979d",
   "metadata": {},
   "outputs": [
    {
     "data": {
      "text/plain": [
       "Counter({2: 6385, 1: 9301, 0: 2882})"
      ]
     },
     "execution_count": 14,
     "metadata": {},
     "output_type": "execute_result"
    }
   ],
   "source": [
    "y_train_A = np.argmax(Y_train_A, axis = 1)\n",
    "Counter(y_train_A)"
   ]
  },
  {
   "cell_type": "code",
   "execution_count": 15,
   "id": "fb02728d",
   "metadata": {},
   "outputs": [
    {
     "data": {
      "text/plain": [
       "Counter({0: 349, 1: 1041, 2: 674})"
      ]
     },
     "execution_count": 15,
     "metadata": {},
     "output_type": "execute_result"
    }
   ],
   "source": [
    "y_test_A = np.argmax(Y_test_A, axis = 1)\n",
    "Counter(y_test_A)"
   ]
  },
  {
   "cell_type": "code",
   "execution_count": 18,
   "id": "2ad0e9f3",
   "metadata": {},
   "outputs": [
    {
     "data": {
      "text/plain": [
       "Counter({1: 7381, 0: 2114})"
      ]
     },
     "execution_count": 18,
     "metadata": {},
     "output_type": "execute_result"
    }
   ],
   "source": [
    "y_train_B = np.argmax(Y_train_B, axis = 1)\n",
    "Counter(y_train_B)"
   ]
  },
  {
   "cell_type": "code",
   "execution_count": 19,
   "id": "f9a62780",
   "metadata": {},
   "outputs": [
    {
     "data": {
      "text/plain": [
       "Counter({1: 831, 0: 225})"
      ]
     },
     "execution_count": 19,
     "metadata": {},
     "output_type": "execute_result"
    }
   ],
   "source": [
    "y_test_B = np.argmax(Y_test_B, axis = 1)\n",
    "Counter(y_test_B)"
   ]
  },
  {
   "cell_type": "code",
   "execution_count": null,
   "id": "e0b3acd9",
   "metadata": {},
   "outputs": [],
   "source": []
  }
 ],
 "metadata": {
  "kernelspec": {
   "display_name": "Python 3 (ipykernel)",
   "language": "python",
   "name": "python3"
  },
  "language_info": {
   "codemirror_mode": {
    "name": "ipython",
    "version": 3
   },
   "file_extension": ".py",
   "mimetype": "text/x-python",
   "name": "python",
   "nbconvert_exporter": "python",
   "pygments_lexer": "ipython3",
   "version": "3.8.13"
  },
  "varInspector": {
   "cols": {
    "lenName": 16,
    "lenType": 16,
    "lenVar": 40
   },
   "kernels_config": {
    "python": {
     "delete_cmd_postfix": "",
     "delete_cmd_prefix": "del ",
     "library": "var_list.py",
     "varRefreshCmd": "print(var_dic_list())"
    },
    "r": {
     "delete_cmd_postfix": ") ",
     "delete_cmd_prefix": "rm(",
     "library": "var_list.r",
     "varRefreshCmd": "cat(var_dic_list()) "
    }
   },
   "types_to_exclude": [
    "module",
    "function",
    "builtin_function_or_method",
    "instance",
    "_Feature"
   ],
   "window_display": false
  }
 },
 "nbformat": 4,
 "nbformat_minor": 5
}
