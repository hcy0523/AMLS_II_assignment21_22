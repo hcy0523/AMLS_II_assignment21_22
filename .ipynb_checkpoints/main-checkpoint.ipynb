{
 "cells": [
  {
   "cell_type": "code",
   "execution_count": 16,
   "id": "b007ce30",
   "metadata": {},
   "outputs": [],
   "source": [
    "# %load main.py\n",
    "import numpy  as np\n",
    "import pandas as pd\n",
    "import joblib\n",
    "import tensorflow\n",
    "import nltk"
   ]
  },
  {
   "cell_type": "code",
   "execution_count": null,
   "id": "b6a1aea6",
   "metadata": {},
   "outputs": [],
   "source": []
  },
  {
   "cell_type": "markdown",
   "id": "63a1415c",
   "metadata": {},
   "source": [
    "### Task A"
   ]
  },
  {
   "cell_type": "code",
   "execution_count": 31,
   "id": "a7f8f3ec",
   "metadata": {},
   "outputs": [],
   "source": [
    "data_pathA = 'Datasets/A/twitter-2016test-A.txt'"
   ]
  },
  {
   "cell_type": "code",
   "execution_count": 40,
   "id": "24cc4698",
   "metadata": {
    "scrolled": true
   },
   "outputs": [
    {
     "data": {
      "text/html": [
       "<div>\n",
       "<style scoped>\n",
       "    .dataframe tbody tr th:only-of-type {\n",
       "        vertical-align: middle;\n",
       "    }\n",
       "\n",
       "    .dataframe tbody tr th {\n",
       "        vertical-align: top;\n",
       "    }\n",
       "\n",
       "    .dataframe thead th {\n",
       "        text-align: right;\n",
       "    }\n",
       "</style>\n",
       "<table border=\"1\" class=\"dataframe\">\n",
       "  <thead>\n",
       "    <tr style=\"text-align: right;\">\n",
       "      <th></th>\n",
       "      <th>ID</th>\n",
       "      <th>Sentiment</th>\n",
       "      <th>Text</th>\n",
       "    </tr>\n",
       "  </thead>\n",
       "  <tbody>\n",
       "    <tr>\n",
       "      <th>0</th>\n",
       "      <td>619969366986235905</td>\n",
       "      <td>neutral</td>\n",
       "      <td>Order Go Set a Watchman in store or through ou...</td>\n",
       "    </tr>\n",
       "    <tr>\n",
       "      <th>1</th>\n",
       "      <td>619971047195045888</td>\n",
       "      <td>negative</td>\n",
       "      <td>If these runway renovations at the airport pre...</td>\n",
       "    </tr>\n",
       "    <tr>\n",
       "      <th>2</th>\n",
       "      <td>619974445185302528</td>\n",
       "      <td>neutral</td>\n",
       "      <td>If you could ask an onstage interview question...</td>\n",
       "    </tr>\n",
       "    <tr>\n",
       "      <th>3</th>\n",
       "      <td>619987808317407232</td>\n",
       "      <td>positive</td>\n",
       "      <td>A portion of book sales from our Harper Lee/Go...</td>\n",
       "    </tr>\n",
       "    <tr>\n",
       "      <th>4</th>\n",
       "      <td>619994586182619136</td>\n",
       "      <td>positive</td>\n",
       "      <td>Excited to read \"Go Set a Watchman\" on Tuesday...</td>\n",
       "    </tr>\n",
       "    <tr>\n",
       "      <th>...</th>\n",
       "      <td>...</td>\n",
       "      <td>...</td>\n",
       "      <td>...</td>\n",
       "    </tr>\n",
       "    <tr>\n",
       "      <th>20626</th>\n",
       "      <td>681877834982232064</td>\n",
       "      <td>neutral</td>\n",
       "      <td>@ShaquilleHoNeal from what I think you're aski...</td>\n",
       "    </tr>\n",
       "    <tr>\n",
       "      <th>20627</th>\n",
       "      <td>681879579129200640</td>\n",
       "      <td>positive</td>\n",
       "      <td>Iran ranks 1st in liver surgeries, Allah bless...</td>\n",
       "    </tr>\n",
       "    <tr>\n",
       "      <th>20628</th>\n",
       "      <td>681883903259357184</td>\n",
       "      <td>neutral</td>\n",
       "      <td>Hours before he arrived in Saudi Arabia on Tue...</td>\n",
       "    </tr>\n",
       "    <tr>\n",
       "      <th>20629</th>\n",
       "      <td>681904976860327936</td>\n",
       "      <td>negative</td>\n",
       "      <td>@VanityFair  Alex Kim Kardashian worth how to ...</td>\n",
       "    </tr>\n",
       "    <tr>\n",
       "      <th>20630</th>\n",
       "      <td>681910549211287552</td>\n",
       "      <td>neutral</td>\n",
       "      <td>I guess even Pandora knows Justin Bieber is a ...</td>\n",
       "    </tr>\n",
       "  </tbody>\n",
       "</table>\n",
       "<p>20631 rows × 3 columns</p>\n",
       "</div>"
      ],
      "text/plain": [
       "                       ID Sentiment  \\\n",
       "0      619969366986235905   neutral   \n",
       "1      619971047195045888  negative   \n",
       "2      619974445185302528   neutral   \n",
       "3      619987808317407232  positive   \n",
       "4      619994586182619136  positive   \n",
       "...                   ...       ...   \n",
       "20626  681877834982232064   neutral   \n",
       "20627  681879579129200640  positive   \n",
       "20628  681883903259357184   neutral   \n",
       "20629  681904976860327936  negative   \n",
       "20630  681910549211287552   neutral   \n",
       "\n",
       "                                                    Text  \n",
       "0      Order Go Set a Watchman in store or through ou...  \n",
       "1      If these runway renovations at the airport pre...  \n",
       "2      If you could ask an onstage interview question...  \n",
       "3      A portion of book sales from our Harper Lee/Go...  \n",
       "4      Excited to read \"Go Set a Watchman\" on Tuesday...  \n",
       "...                                                  ...  \n",
       "20626  @ShaquilleHoNeal from what I think you're aski...  \n",
       "20627  Iran ranks 1st in liver surgeries, Allah bless...  \n",
       "20628  Hours before he arrived in Saudi Arabia on Tue...  \n",
       "20629  @VanityFair  Alex Kim Kardashian worth how to ...  \n",
       "20630  I guess even Pandora knows Justin Bieber is a ...  \n",
       "\n",
       "[20631 rows x 3 columns]"
      ]
     },
     "execution_count": 40,
     "metadata": {},
     "output_type": "execute_result"
    }
   ],
   "source": [
    "dataA = pd.read_table(data_pathA,sep='\\t',header=0)\n",
    "dataA = dataA.drop(columns='Unnamed: 3')\n",
    "dataA.columns = ['ID','Sentiment','Text']\n",
    "dataA"
   ]
  },
  {
   "cell_type": "code",
   "execution_count": 21,
   "id": "a50b0dce",
   "metadata": {},
   "outputs": [
    {
     "data": {
      "text/plain": [
       "positive    3017\n",
       "neutral     2001\n",
       "negative     849\n",
       "Name: Sentiment, dtype: int64"
      ]
     },
     "execution_count": 21,
     "metadata": {},
     "output_type": "execute_result"
    }
   ],
   "source": [
    "dataA.loc[:,'Sentiment'].value_counts()"
   ]
  },
  {
   "cell_type": "markdown",
   "id": "04508bd2",
   "metadata": {},
   "source": [
    "### Task B"
   ]
  },
  {
   "cell_type": "code",
   "execution_count": 11,
   "id": "aaf6fe8b",
   "metadata": {},
   "outputs": [],
   "source": [
    "data_pathB = 'Datasets/B/twitterB.txt'"
   ]
  },
  {
   "cell_type": "code",
   "execution_count": 12,
   "id": "3603f882",
   "metadata": {},
   "outputs": [
    {
     "data": {
      "text/html": [
       "<div>\n",
       "<style scoped>\n",
       "    .dataframe tbody tr th:only-of-type {\n",
       "        vertical-align: middle;\n",
       "    }\n",
       "\n",
       "    .dataframe tbody tr th {\n",
       "        vertical-align: top;\n",
       "    }\n",
       "\n",
       "    .dataframe thead th {\n",
       "        text-align: right;\n",
       "    }\n",
       "</style>\n",
       "<table border=\"1\" class=\"dataframe\">\n",
       "  <thead>\n",
       "    <tr style=\"text-align: right;\">\n",
       "      <th></th>\n",
       "      <th>ID</th>\n",
       "      <th>Topic</th>\n",
       "      <th>Sentiment</th>\n",
       "      <th>Text</th>\n",
       "    </tr>\n",
       "  </thead>\n",
       "  <tbody>\n",
       "    <tr>\n",
       "      <th>0</th>\n",
       "      <td>628976607420645377</td>\n",
       "      <td>@microsoft</td>\n",
       "      <td>negative</td>\n",
       "      <td>@Microsoft how about you make a system that do...</td>\n",
       "    </tr>\n",
       "    <tr>\n",
       "      <th>1</th>\n",
       "      <td>629023169169518592</td>\n",
       "      <td>@microsoft</td>\n",
       "      <td>negative</td>\n",
       "      <td>I may be ignorant on this issue but... should ...</td>\n",
       "    </tr>\n",
       "    <tr>\n",
       "      <th>2</th>\n",
       "      <td>629179223232479232</td>\n",
       "      <td>@microsoft</td>\n",
       "      <td>negative</td>\n",
       "      <td>Thanks to @microsoft, I just may be switching ...</td>\n",
       "    </tr>\n",
       "    <tr>\n",
       "      <th>3</th>\n",
       "      <td>629226490152914944</td>\n",
       "      <td>@microsoft</td>\n",
       "      <td>positive</td>\n",
       "      <td>Microsoft, I may not prefer your gaming branch...</td>\n",
       "    </tr>\n",
       "    <tr>\n",
       "      <th>4</th>\n",
       "      <td>629345637155360768</td>\n",
       "      <td>@microsoft</td>\n",
       "      <td>negative</td>\n",
       "      <td>@MikeWolf1980 @Microsoft I will be downgrading...</td>\n",
       "    </tr>\n",
       "    <tr>\n",
       "      <th>...</th>\n",
       "      <td>...</td>\n",
       "      <td>...</td>\n",
       "      <td>...</td>\n",
       "      <td>...</td>\n",
       "    </tr>\n",
       "    <tr>\n",
       "      <th>4303</th>\n",
       "      <td>639166904813223937</td>\n",
       "      <td>metlife</td>\n",
       "      <td>positive</td>\n",
       "      <td>Heading up to MetLife tomorrow for the Jets game</td>\n",
       "    </tr>\n",
       "    <tr>\n",
       "      <th>4304</th>\n",
       "      <td>639295526995890177</td>\n",
       "      <td>metlife</td>\n",
       "      <td>positive</td>\n",
       "      <td>Going to MetLife tomorrow but not to see the b...</td>\n",
       "    </tr>\n",
       "    <tr>\n",
       "      <th>4305</th>\n",
       "      <td>639804828739346432</td>\n",
       "      <td>metlife</td>\n",
       "      <td>positive</td>\n",
       "      <td>It's the first Football Friday of the year. Th...</td>\n",
       "    </tr>\n",
       "    <tr>\n",
       "      <th>4306</th>\n",
       "      <td>639855845958885376</td>\n",
       "      <td>metlife</td>\n",
       "      <td>positive</td>\n",
       "      <td>@Racalto_SK ok good to know. Punting at MetLif...</td>\n",
       "    </tr>\n",
       "    <tr>\n",
       "      <th>4307</th>\n",
       "      <td>641034340068143104</td>\n",
       "      <td>metlife</td>\n",
       "      <td>positive</td>\n",
       "      <td>Mendez told me he'd drive me to MetLife on Sun...</td>\n",
       "    </tr>\n",
       "  </tbody>\n",
       "</table>\n",
       "<p>4308 rows × 4 columns</p>\n",
       "</div>"
      ],
      "text/plain": [
       "                      ID       Topic Sentiment  \\\n",
       "0     628976607420645377  @microsoft  negative   \n",
       "1     629023169169518592  @microsoft  negative   \n",
       "2     629179223232479232  @microsoft  negative   \n",
       "3     629226490152914944  @microsoft  positive   \n",
       "4     629345637155360768  @microsoft  negative   \n",
       "...                  ...         ...       ...   \n",
       "4303  639166904813223937     metlife  positive   \n",
       "4304  639295526995890177     metlife  positive   \n",
       "4305  639804828739346432     metlife  positive   \n",
       "4306  639855845958885376     metlife  positive   \n",
       "4307  641034340068143104     metlife  positive   \n",
       "\n",
       "                                                   Text  \n",
       "0     @Microsoft how about you make a system that do...  \n",
       "1     I may be ignorant on this issue but... should ...  \n",
       "2     Thanks to @microsoft, I just may be switching ...  \n",
       "3     Microsoft, I may not prefer your gaming branch...  \n",
       "4     @MikeWolf1980 @Microsoft I will be downgrading...  \n",
       "...                                                 ...  \n",
       "4303   Heading up to MetLife tomorrow for the Jets game  \n",
       "4304  Going to MetLife tomorrow but not to see the b...  \n",
       "4305  It's the first Football Friday of the year. Th...  \n",
       "4306  @Racalto_SK ok good to know. Punting at MetLif...  \n",
       "4307  Mendez told me he'd drive me to MetLife on Sun...  \n",
       "\n",
       "[4308 rows x 4 columns]"
      ]
     },
     "execution_count": 12,
     "metadata": {},
     "output_type": "execute_result"
    }
   ],
   "source": [
    "# Read data from txt file\n",
    "dataB = pd.read_table(data_pathB,sep='\\t',header=0)\n",
    "# data_df = data_df.drop(columns=3)\n",
    "dataB.columns = ['ID','Topic','Sentiment','Text']\n",
    "dataB"
   ]
  },
  {
   "cell_type": "code",
   "execution_count": 13,
   "id": "b5b820a2",
   "metadata": {},
   "outputs": [
    {
     "data": {
      "text/html": [
       "<div>\n",
       "<style scoped>\n",
       "    .dataframe tbody tr th:only-of-type {\n",
       "        vertical-align: middle;\n",
       "    }\n",
       "\n",
       "    .dataframe tbody tr th {\n",
       "        vertical-align: top;\n",
       "    }\n",
       "\n",
       "    .dataframe thead th {\n",
       "        text-align: right;\n",
       "    }\n",
       "</style>\n",
       "<table border=\"1\" class=\"dataframe\">\n",
       "  <thead>\n",
       "    <tr style=\"text-align: right;\">\n",
       "      <th></th>\n",
       "      <th>ID</th>\n",
       "      <th>Topic</th>\n",
       "      <th>Sentiment</th>\n",
       "      <th>Text</th>\n",
       "    </tr>\n",
       "  </thead>\n",
       "  <tbody>\n",
       "    <tr>\n",
       "      <th>0</th>\n",
       "      <td>628976607420645377</td>\n",
       "      <td>@microsoft</td>\n",
       "      <td>negative</td>\n",
       "      <td>@Microsoft how about you make a system that do...</td>\n",
       "    </tr>\n",
       "    <tr>\n",
       "      <th>1</th>\n",
       "      <td>629023169169518592</td>\n",
       "      <td>@microsoft</td>\n",
       "      <td>negative</td>\n",
       "      <td>I may be ignorant on this issue but... should ...</td>\n",
       "    </tr>\n",
       "    <tr>\n",
       "      <th>2</th>\n",
       "      <td>629179223232479232</td>\n",
       "      <td>@microsoft</td>\n",
       "      <td>negative</td>\n",
       "      <td>Thanks to @microsoft, I just may be switching ...</td>\n",
       "    </tr>\n",
       "    <tr>\n",
       "      <th>3</th>\n",
       "      <td>629226490152914944</td>\n",
       "      <td>@microsoft</td>\n",
       "      <td>positive</td>\n",
       "      <td>Microsoft, I may not prefer your gaming branch...</td>\n",
       "    </tr>\n",
       "    <tr>\n",
       "      <th>4</th>\n",
       "      <td>629345637155360768</td>\n",
       "      <td>@microsoft</td>\n",
       "      <td>negative</td>\n",
       "      <td>@MikeWolf1980 @Microsoft I will be downgrading...</td>\n",
       "    </tr>\n",
       "    <tr>\n",
       "      <th>...</th>\n",
       "      <td>...</td>\n",
       "      <td>...</td>\n",
       "      <td>...</td>\n",
       "      <td>...</td>\n",
       "    </tr>\n",
       "    <tr>\n",
       "      <th>4303</th>\n",
       "      <td>639166904813223937</td>\n",
       "      <td>metlife</td>\n",
       "      <td>positive</td>\n",
       "      <td>Heading up to MetLife tomorrow for the Jets game</td>\n",
       "    </tr>\n",
       "    <tr>\n",
       "      <th>4304</th>\n",
       "      <td>639295526995890177</td>\n",
       "      <td>metlife</td>\n",
       "      <td>positive</td>\n",
       "      <td>Going to MetLife tomorrow but not to see the b...</td>\n",
       "    </tr>\n",
       "    <tr>\n",
       "      <th>4305</th>\n",
       "      <td>639804828739346432</td>\n",
       "      <td>metlife</td>\n",
       "      <td>positive</td>\n",
       "      <td>It's the first Football Friday of the year. Th...</td>\n",
       "    </tr>\n",
       "    <tr>\n",
       "      <th>4306</th>\n",
       "      <td>639855845958885376</td>\n",
       "      <td>metlife</td>\n",
       "      <td>positive</td>\n",
       "      <td>@Racalto_SK ok good to know. Punting at MetLif...</td>\n",
       "    </tr>\n",
       "    <tr>\n",
       "      <th>4307</th>\n",
       "      <td>641034340068143104</td>\n",
       "      <td>metlife</td>\n",
       "      <td>positive</td>\n",
       "      <td>Mendez told me he'd drive me to MetLife on Sun...</td>\n",
       "    </tr>\n",
       "  </tbody>\n",
       "</table>\n",
       "<p>4308 rows × 4 columns</p>\n",
       "</div>"
      ],
      "text/plain": [
       "                      ID       Topic Sentiment  \\\n",
       "0     628976607420645377  @microsoft  negative   \n",
       "1     629023169169518592  @microsoft  negative   \n",
       "2     629179223232479232  @microsoft  negative   \n",
       "3     629226490152914944  @microsoft  positive   \n",
       "4     629345637155360768  @microsoft  negative   \n",
       "...                  ...         ...       ...   \n",
       "4303  639166904813223937     metlife  positive   \n",
       "4304  639295526995890177     metlife  positive   \n",
       "4305  639804828739346432     metlife  positive   \n",
       "4306  639855845958885376     metlife  positive   \n",
       "4307  641034340068143104     metlife  positive   \n",
       "\n",
       "                                                   Text  \n",
       "0     @Microsoft how about you make a system that do...  \n",
       "1     I may be ignorant on this issue but... should ...  \n",
       "2     Thanks to @microsoft, I just may be switching ...  \n",
       "3     Microsoft, I may not prefer your gaming branch...  \n",
       "4     @MikeWolf1980 @Microsoft I will be downgrading...  \n",
       "...                                                 ...  \n",
       "4303   Heading up to MetLife tomorrow for the Jets game  \n",
       "4304  Going to MetLife tomorrow but not to see the b...  \n",
       "4305  It's the first Football Friday of the year. Th...  \n",
       "4306  @Racalto_SK ok good to know. Punting at MetLif...  \n",
       "4307  Mendez told me he'd drive me to MetLife on Sun...  \n",
       "\n",
       "[4308 rows x 4 columns]"
      ]
     },
     "execution_count": 13,
     "metadata": {},
     "output_type": "execute_result"
    }
   ],
   "source": [
    "dataB"
   ]
  },
  {
   "cell_type": "code",
   "execution_count": 1,
   "id": "145e9ad4",
   "metadata": {},
   "outputs": [
    {
     "name": "stdout",
     "output_type": "stream",
     "text": [
      "Version:  2.6.0\n",
      "Eager mode:  True\n",
      "GPU is available\n"
     ]
    }
   ],
   "source": [
    "import A.SubtaskA as A\n"
   ]
  },
  {
   "cell_type": "code",
   "execution_count": null,
   "id": "10dac79d",
   "metadata": {},
   "outputs": [],
   "source": []
  },
  {
   "cell_type": "markdown",
   "id": "4206a548",
   "metadata": {},
   "source": [
    "### Step1: Data Pre-processing "
   ]
  },
  {
   "cell_type": "code",
   "execution_count": 4,
   "id": "d7687258",
   "metadata": {},
   "outputs": [
    {
     "ename": "AttributeError",
     "evalue": "module 'A.SubtaskA' has no attribute 'A_Final'",
     "output_type": "error",
     "traceback": [
      "\u001b[1;31m---------------------------------------------------------------------------\u001b[0m",
      "\u001b[1;31mAttributeError\u001b[0m                            Traceback (most recent call last)",
      "Input \u001b[1;32mIn [4]\u001b[0m, in \u001b[0;36m<cell line: 2>\u001b[1;34m()\u001b[0m\n\u001b[0;32m      1\u001b[0m \u001b[38;5;66;03m# Load data\u001b[39;00m\n\u001b[1;32m----> 2\u001b[0m ClassA\u001b[38;5;241m=\u001b[39m\u001b[43mA\u001b[49m\u001b[38;5;241;43m.\u001b[39;49m\u001b[43mA_Final\u001b[49m()\n\u001b[0;32m      3\u001b[0m address\u001b[38;5;241m=\u001b[39m\u001b[38;5;124m'\u001b[39m\u001b[38;5;124mDatasets/A/twitter-2016train-A.txt\u001b[39m\u001b[38;5;124m'\u001b[39m\n\u001b[0;32m      4\u001b[0m window\u001b[38;5;241m=\u001b[39m\u001b[38;5;241m5\u001b[39m\n",
      "\u001b[1;31mAttributeError\u001b[0m: module 'A.SubtaskA' has no attribute 'A_Final'"
     ]
    }
   ],
   "source": [
    "# Load data\n",
    "ClassA=A.A_Final()\n",
    "address='Datasets/A/twitter-2016train-A.txt'\n",
    "window=5\n",
    "min_count=1\n",
    "epochs=100\n",
    "seq_len=100\n",
    "X_train, X_test, Y_train, Y_test=PreProcess(self,address,window,min_count,epochs,seq_len)"
   ]
  },
  {
   "cell_type": "code",
   "execution_count": null,
   "id": "08bfff9b",
   "metadata": {},
   "outputs": [],
   "source": []
  },
  {
   "cell_type": "code",
   "execution_count": 8,
   "id": "3735a720",
   "metadata": {},
   "outputs": [
    {
     "ename": "AttributeError",
     "evalue": "module 'A.SubtaskA' has no attribute 'SubtaskA'",
     "output_type": "error",
     "traceback": [
      "\u001b[1;31m---------------------------------------------------------------------------\u001b[0m",
      "\u001b[1;31mAttributeError\u001b[0m                            Traceback (most recent call last)",
      "Input \u001b[1;32mIn [8]\u001b[0m, in \u001b[0;36m<cell line: 1>\u001b[1;34m()\u001b[0m\n\u001b[1;32m----> 1\u001b[0m \u001b[43mA\u001b[49m\u001b[38;5;241;43m.\u001b[39;49m\u001b[43mSubtaskA\u001b[49m\u001b[38;5;241;43m.\u001b[39;49m\u001b[43mSubtaskA\u001b[49m()\n",
      "\u001b[1;31mAttributeError\u001b[0m: module 'A.SubtaskA' has no attribute 'SubtaskA'"
     ]
    }
   ],
   "source": []
  },
  {
   "cell_type": "code",
   "execution_count": 9,
   "id": "3f3c3eeb",
   "metadata": {},
   "outputs": [
    {
     "ename": "NameError",
     "evalue": "name 'pd' is not defined",
     "output_type": "error",
     "traceback": [
      "\u001b[1;31m---------------------------------------------------------------------------\u001b[0m",
      "\u001b[1;31mNameError\u001b[0m                                 Traceback (most recent call last)",
      "Input \u001b[1;32mIn [9]\u001b[0m, in \u001b[0;36m<cell line: 1>\u001b[1;34m()\u001b[0m\n\u001b[1;32m----> 1\u001b[0m \u001b[43mpd\u001b[49m\u001b[38;5;241m.\u001b[39mread_csv\n",
      "\u001b[1;31mNameError\u001b[0m: name 'pd' is not defined"
     ]
    }
   ],
   "source": [
    "embed_dict=ClassA.word2vec(token,window=5,min_count=1,epochs=100)"
   ]
  },
  {
   "cell_type": "code",
   "execution_count": 3,
   "id": "331b3c12",
   "metadata": {},
   "outputs": [
    {
     "ename": "NameError",
     "evalue": "name 'pd' is not defined",
     "output_type": "error",
     "traceback": [
      "\u001b[1;31m---------------------------------------------------------------------------\u001b[0m",
      "\u001b[1;31mNameError\u001b[0m                                 Traceback (most recent call last)",
      "Input \u001b[1;32mIn [3]\u001b[0m, in \u001b[0;36m<cell line: 1>\u001b[1;34m()\u001b[0m\n\u001b[1;32m----> 1\u001b[0m \u001b[43mpd\u001b[49m\n",
      "\u001b[1;31mNameError\u001b[0m: name 'pd' is not defined"
     ]
    }
   ],
   "source": [
    "X="
   ]
  },
  {
   "cell_type": "code",
   "execution_count": null,
   "id": "a79d76e8",
   "metadata": {},
   "outputs": [],
   "source": []
  }
 ],
 "metadata": {
  "kernelspec": {
   "display_name": "Python 3 (ipykernel)",
   "language": "python",
   "name": "python3"
  },
  "language_info": {
   "codemirror_mode": {
    "name": "ipython",
    "version": 3
   },
   "file_extension": ".py",
   "mimetype": "text/x-python",
   "name": "python",
   "nbconvert_exporter": "python",
   "pygments_lexer": "ipython3",
   "version": "3.8.13"
  },
  "varInspector": {
   "cols": {
    "lenName": 16,
    "lenType": 16,
    "lenVar": 40
   },
   "kernels_config": {
    "python": {
     "delete_cmd_postfix": "",
     "delete_cmd_prefix": "del ",
     "library": "var_list.py",
     "varRefreshCmd": "print(var_dic_list())"
    },
    "r": {
     "delete_cmd_postfix": ") ",
     "delete_cmd_prefix": "rm(",
     "library": "var_list.r",
     "varRefreshCmd": "cat(var_dic_list()) "
    }
   },
   "types_to_exclude": [
    "module",
    "function",
    "builtin_function_or_method",
    "instance",
    "_Feature"
   ],
   "window_display": false
  }
 },
 "nbformat": 4,
 "nbformat_minor": 5
}
