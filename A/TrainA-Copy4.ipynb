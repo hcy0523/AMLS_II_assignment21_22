{
 "cells": [
  {
   "cell_type": "code",
   "execution_count": 1,
   "id": "2d60291b",
   "metadata": {},
   "outputs": [],
   "source": [
    "# %load main.py\n",
    "import os\n",
    "import re\n",
    "import shutil\n",
    "from tqdm import tqdm\n",
    "\n",
    "import numpy  as np\n",
    "import pandas as pd\n",
    "import joblib\n",
    "import nltk\n",
    "import ekphrasis\n",
    "from collections import Counter"
   ]
  },
  {
   "cell_type": "markdown",
   "id": "63a1415c",
   "metadata": {},
   "source": [
    "### Step1: Data Pre-processing"
   ]
  },
  {
   "cell_type": "code",
   "execution_count": 2,
   "id": "f090b975",
   "metadata": {},
   "outputs": [],
   "source": [
    "# read data\n",
    "Path =os.path.dirname(os.getcwd())\n",
    "data_pathA=os.path.join(Path,'Datasets/A/twitter-2016train-A.txt')"
   ]
  },
  {
   "cell_type": "code",
   "execution_count": 3,
   "id": "a8d98569",
   "metadata": {},
   "outputs": [
    {
     "data": {
      "text/plain": [
       "'D:\\\\UCL-ELEC0135\\\\Assignments\\\\Datasets/A/twitter-2016train-A.txt'"
      ]
     },
     "execution_count": 3,
     "metadata": {},
     "output_type": "execute_result"
    }
   ],
   "source": [
    "data_pathA"
   ]
  },
  {
   "cell_type": "code",
   "execution_count": 4,
   "id": "18a8db65",
   "metadata": {
    "scrolled": true
   },
   "outputs": [
    {
     "data": {
      "text/html": [
       "<div>\n",
       "<style scoped>\n",
       "    .dataframe tbody tr th:only-of-type {\n",
       "        vertical-align: middle;\n",
       "    }\n",
       "\n",
       "    .dataframe tbody tr th {\n",
       "        vertical-align: top;\n",
       "    }\n",
       "\n",
       "    .dataframe thead th {\n",
       "        text-align: right;\n",
       "    }\n",
       "</style>\n",
       "<table border=\"1\" class=\"dataframe\">\n",
       "  <thead>\n",
       "    <tr style=\"text-align: right;\">\n",
       "      <th></th>\n",
       "      <th>ID</th>\n",
       "      <th>Sentiment</th>\n",
       "      <th>Text</th>\n",
       "      <th>Nan</th>\n",
       "      <th>label</th>\n",
       "    </tr>\n",
       "  </thead>\n",
       "  <tbody>\n",
       "    <tr>\n",
       "      <th>0</th>\n",
       "      <td>619950566786113536</td>\n",
       "      <td>neutral</td>\n",
       "      <td>Picturehouse's, Pink Floyd's, 'Roger Waters: T...</td>\n",
       "      <td>NaN</td>\n",
       "      <td>1</td>\n",
       "    </tr>\n",
       "    <tr>\n",
       "      <th>1</th>\n",
       "      <td>619969366986235905</td>\n",
       "      <td>neutral</td>\n",
       "      <td>Order Go Set a Watchman in store or through ou...</td>\n",
       "      <td>NaN</td>\n",
       "      <td>1</td>\n",
       "    </tr>\n",
       "    <tr>\n",
       "      <th>2</th>\n",
       "      <td>619971047195045888</td>\n",
       "      <td>negative</td>\n",
       "      <td>If these runway renovations at the airport pre...</td>\n",
       "      <td>NaN</td>\n",
       "      <td>0</td>\n",
       "    </tr>\n",
       "    <tr>\n",
       "      <th>3</th>\n",
       "      <td>619974445185302528</td>\n",
       "      <td>neutral</td>\n",
       "      <td>If you could ask an onstage interview question...</td>\n",
       "      <td>NaN</td>\n",
       "      <td>1</td>\n",
       "    </tr>\n",
       "    <tr>\n",
       "      <th>4</th>\n",
       "      <td>619987808317407232</td>\n",
       "      <td>positive</td>\n",
       "      <td>A portion of book sales from our Harper Lee/Go...</td>\n",
       "      <td>NaN</td>\n",
       "      <td>2</td>\n",
       "    </tr>\n",
       "    <tr>\n",
       "      <th>...</th>\n",
       "      <td>...</td>\n",
       "      <td>...</td>\n",
       "      <td>...</td>\n",
       "      <td>...</td>\n",
       "      <td>...</td>\n",
       "    </tr>\n",
       "    <tr>\n",
       "      <th>20627</th>\n",
       "      <td>681877834982232064</td>\n",
       "      <td>neutral</td>\n",
       "      <td>@ShaquilleHoNeal from what I think you're aski...</td>\n",
       "      <td>NaN</td>\n",
       "      <td>1</td>\n",
       "    </tr>\n",
       "    <tr>\n",
       "      <th>20628</th>\n",
       "      <td>681879579129200640</td>\n",
       "      <td>positive</td>\n",
       "      <td>Iran ranks 1st in liver surgeries, Allah bless...</td>\n",
       "      <td>NaN</td>\n",
       "      <td>2</td>\n",
       "    </tr>\n",
       "    <tr>\n",
       "      <th>20629</th>\n",
       "      <td>681883903259357184</td>\n",
       "      <td>neutral</td>\n",
       "      <td>Hours before he arrived in Saudi Arabia on Tue...</td>\n",
       "      <td>NaN</td>\n",
       "      <td>1</td>\n",
       "    </tr>\n",
       "    <tr>\n",
       "      <th>20630</th>\n",
       "      <td>681904976860327936</td>\n",
       "      <td>negative</td>\n",
       "      <td>@VanityFair  Alex Kim Kardashian worth how to ...</td>\n",
       "      <td>NaN</td>\n",
       "      <td>0</td>\n",
       "    </tr>\n",
       "    <tr>\n",
       "      <th>20631</th>\n",
       "      <td>681910549211287552</td>\n",
       "      <td>neutral</td>\n",
       "      <td>I guess even Pandora knows Justin Bieber is a ...</td>\n",
       "      <td>NaN</td>\n",
       "      <td>1</td>\n",
       "    </tr>\n",
       "  </tbody>\n",
       "</table>\n",
       "<p>20632 rows × 5 columns</p>\n",
       "</div>"
      ],
      "text/plain": [
       "                       ID Sentiment  \\\n",
       "0      619950566786113536   neutral   \n",
       "1      619969366986235905   neutral   \n",
       "2      619971047195045888  negative   \n",
       "3      619974445185302528   neutral   \n",
       "4      619987808317407232  positive   \n",
       "...                   ...       ...   \n",
       "20627  681877834982232064   neutral   \n",
       "20628  681879579129200640  positive   \n",
       "20629  681883903259357184   neutral   \n",
       "20630  681904976860327936  negative   \n",
       "20631  681910549211287552   neutral   \n",
       "\n",
       "                                                    Text  Nan  label  \n",
       "0      Picturehouse's, Pink Floyd's, 'Roger Waters: T...  NaN      1  \n",
       "1      Order Go Set a Watchman in store or through ou...  NaN      1  \n",
       "2      If these runway renovations at the airport pre...  NaN      0  \n",
       "3      If you could ask an onstage interview question...  NaN      1  \n",
       "4      A portion of book sales from our Harper Lee/Go...  NaN      2  \n",
       "...                                                  ...  ...    ...  \n",
       "20627  @ShaquilleHoNeal from what I think you're aski...  NaN      1  \n",
       "20628  Iran ranks 1st in liver surgeries, Allah bless...  NaN      2  \n",
       "20629  Hours before he arrived in Saudi Arabia on Tue...  NaN      1  \n",
       "20630  @VanityFair  Alex Kim Kardashian worth how to ...  NaN      0  \n",
       "20631  I guess even Pandora knows Justin Bieber is a ...  NaN      1  \n",
       "\n",
       "[20632 rows x 5 columns]"
      ]
     },
     "execution_count": 4,
     "metadata": {},
     "output_type": "execute_result"
    }
   ],
   "source": [
    "# transform data into df form\n",
    "dataA = pd.read_table(data_pathA,sep='\\t',header=None)\n",
    "dataA.columns = ['ID','Sentiment','Text','Nan']\n",
    "def add_label(sentiment):\n",
    "    if sentiment == 'negative':\n",
    "        return 0\n",
    "    elif sentiment == 'neutral':\n",
    "        return 1\n",
    "    elif sentiment == 'positive':\n",
    "        return 2\n",
    "\n",
    "dataA['label'] = dataA.Sentiment.apply(add_label)\n",
    "dataA"
   ]
  },
  {
   "cell_type": "code",
   "execution_count": 5,
   "id": "d65b7d12",
   "metadata": {
    "scrolled": true
   },
   "outputs": [
    {
     "data": {
      "text/plain": [
       "{('neutral', 1): 10342, ('positive', 2): 7059, ('negative', 0): 3231}"
      ]
     },
     "execution_count": 5,
     "metadata": {},
     "output_type": "execute_result"
    }
   ],
   "source": [
    "# sentiment distribution of data\n",
    "dataA.loc[:,['Sentiment','label']].value_counts().to_dict()"
   ]
  },
  {
   "cell_type": "markdown",
   "id": "443edeb7",
   "metadata": {},
   "source": [
    "1Case conversion\n",
    "包含“India”和“india”的语料库如果不应用小写化，机器会把它们识别为两个独立的术语，而实际上它们都是同一个单词的不同形式，并且对应于同一个国家。小写化后，仅存在一种“India”实例，即“india”，简化了在语料库中找到所有提到印度时的任务。"
   ]
  },
  {
   "cell_type": "code",
   "execution_count": 6,
   "id": "24103376",
   "metadata": {
    "scrolled": true
   },
   "outputs": [
    {
     "name": "stderr",
     "output_type": "stream",
     "text": [
      "C:\\Users\\HCY\\AppData\\Roaming\\Python\\Python38\\site-packages\\ekphrasis\\classes\\tokenizer.py:225: FutureWarning: Possible nested set at position 2190\n",
      "  self.tok = re.compile(r\"({})\".format(\"|\".join(pipeline)))\n"
     ]
    },
    {
     "name": "stdout",
     "output_type": "stream",
     "text": [
      "Reading twitter - 1grams ...\n",
      "Reading twitter - 2grams ...\n",
      "Reading twitter - 1grams ...\n"
     ]
    },
    {
     "name": "stderr",
     "output_type": "stream",
     "text": [
      "C:\\Users\\HCY\\AppData\\Roaming\\Python\\Python38\\site-packages\\ekphrasis\\classes\\exmanager.py:14: FutureWarning: Possible nested set at position 42\n",
      "  regexes = {k.lower(): re.compile(self.expressions[k]) for k, v in\n"
     ]
    }
   ],
   "source": [
    "#import ekphrasis library\n",
    "from ekphrasis.classes.preprocessor import TextPreProcessor\n",
    "from ekphrasis.classes.tokenizer import SocialTokenizer\n",
    "from ekphrasis.dicts.emoticons import emoticons\n",
    "\n",
    "text_processor = TextPreProcessor(\n",
    "    # terms that will be normalized\n",
    "    normalize=['url', 'email', 'percent', 'money', 'phone', 'user',\n",
    "        'time', 'url', 'date', 'number'],\n",
    "    # terms that will be annotated\n",
    "    annotate={\"hashtag\", \"allcaps\", \"elongated\", \"repeated\",\n",
    "        'emphasis', 'censored'},\n",
    "    fix_html=True,  # fix HTML tokens\n",
    "    \n",
    "    # corpus from which the word statistics are going to be used \n",
    "    # for word segmentation \n",
    "    segmenter=\"twitter\", \n",
    "    \n",
    "    # corpus from which the word statistics are going to be used \n",
    "    # for spell correction\n",
    "    corrector=\"twitter\", \n",
    "    \n",
    "    unpack_hashtags=True,  # perform word segmentation on hashtags\n",
    "    unpack_contractions=True,  # Unpack contractions (can't -> can not)\n",
    "    spell_correct_elong=False,  # spell correction for elongated words\n",
    "    \n",
    "    # select a tokenizer. You can use SocialTokenizer, or pass your own\n",
    "    # the tokenizer, should take as input a string and return a list of tokens\n",
    "    tokenizer=SocialTokenizer(lowercase=True).tokenize,\n",
    "    \n",
    "    # list of dictionaries, for replacing tokens extracted from the text,\n",
    "    # with other expressions. You can pass more than one dictionaries.\n",
    "    dicts=[emoticons]\n",
    ")"
   ]
  },
  {
   "cell_type": "code",
   "execution_count": 7,
   "id": "fcbb4e5f",
   "metadata": {},
   "outputs": [],
   "source": [
    "# nltk.download('stopwords')\n",
    "# from nltk.corpus import stopwords\n",
    "# stop = set(stopwords.words('english'))"
   ]
  },
  {
   "cell_type": "code",
   "execution_count": 8,
   "id": "b296cad9",
   "metadata": {},
   "outputs": [],
   "source": [
    "def Tokenize(Texts):\n",
    "    token=[]\n",
    "    for Text in Texts:\n",
    "        words = [sentence for sentence in text_processor.pre_process_doc(Text) if (sentence!='s' and sentence!='\\'')]\n",
    "#         words = [word for word in words if (word not in stop)]\n",
    "        token.append(words)\n",
    "    words=[word for words in token for word in words]\n",
    "    \n",
    "    print(\"All words: {}\".format(len(words)))\n",
    "    # Create Counter\n",
    "    counts = Counter(words)\n",
    "    print(\"Unique words: {}\".format(len(counts)))\n",
    "\n",
    "    Most_common= counts.most_common()[:30]\n",
    "    print(\"Top 30 most common words: {}\".format(Most_common))\n",
    "    \n",
    "    vocab = {word: num for num, word in enumerate(counts, 1)}\n",
    "    id2vocab = {v: k for k, v in vocab.items()}\n",
    "    return token,vocab"
   ]
  },
  {
   "cell_type": "code",
   "execution_count": 9,
   "id": "a39875da",
   "metadata": {},
   "outputs": [
    {
     "name": "stdout",
     "output_type": "stream",
     "text": [
      "All words: 493747\n",
      "Unique words: 22054\n",
      "Top 30 most common words: [('.', 18786), ('the', 17197), (',', 9728), ('to', 9144), ('i', 7607), ('<user>', 7027), ('<url>', 6377), ('in', 6203), ('a', 6176), ('and', 5986), ('on', 5528), ('<number>', 5262), ('of', 5162), ('<repeated>', 5142), ('<hashtag>', 5092), ('</hashtag>', 5092), ('is', 4868), ('for', 4392), ('!', 4391), ('<allcaps>', 4306), ('</allcaps>', 4306), ('it', 4213), ('you', 4037), ('not', 3590), ('may', 3563), ('-', 3550), ('with', 3397), ('be', 3357), ('tomorrow', 2953), ('?', 2787)]\n"
     ]
    }
   ],
   "source": [
    "token,vocab=Tokenize(dataA.Text)"
   ]
  },
  {
   "cell_type": "markdown",
   "id": "1c4ca1c7",
   "metadata": {},
   "source": [
    "### Step2: Word2Vec Pretraining"
   ]
  },
  {
   "cell_type": "code",
   "execution_count": 10,
   "id": "e51b0eb7",
   "metadata": {},
   "outputs": [],
   "source": [
    "from gensim.models import Word2Vec, KeyedVectors\n",
    "from nltk import word_tokenize\n",
    "import multiprocessing\n",
    "import tensorboard "
   ]
  },
  {
   "cell_type": "code",
   "execution_count": 11,
   "id": "fcf25f01",
   "metadata": {},
   "outputs": [],
   "source": [
    "word2vec_model=Word2Vec(token,window=5, min_count=1,workers = multiprocessing.cpu_count())"
   ]
  },
  {
   "cell_type": "code",
   "execution_count": 12,
   "id": "2b4c56bb",
   "metadata": {},
   "outputs": [
    {
     "data": {
      "text/plain": [
       "(36803515, 49374700)"
      ]
     },
     "execution_count": 12,
     "metadata": {},
     "output_type": "execute_result"
    }
   ],
   "source": [
    "word2vec_model.train(token, total_examples = len(token), epochs = 100)"
   ]
  },
  {
   "cell_type": "code",
   "execution_count": 13,
   "id": "b864413b",
   "metadata": {
    "scrolled": true
   },
   "outputs": [
    {
     "name": "stdout",
     "output_type": "stream",
     "text": [
      "This is summary of Word2Vec: Word2Vec(vocab=22054, vector_size=100, alpha=0.025)\n"
     ]
    }
   ],
   "source": [
    "print('This is summary of Word2Vec: {}'.format(word2vec_model))"
   ]
  },
  {
   "cell_type": "code",
   "execution_count": 14,
   "id": "f349892b",
   "metadata": {},
   "outputs": [],
   "source": [
    "index=word2vec_model.wv.key_to_index"
   ]
  },
  {
   "cell_type": "code",
   "execution_count": 15,
   "id": "5ada745f",
   "metadata": {},
   "outputs": [],
   "source": [
    "word2vec_model.wv.save_word2vec_format('Word2Vec.vector')"
   ]
  },
  {
   "cell_type": "code",
   "execution_count": 16,
   "id": "9e06de6c",
   "metadata": {},
   "outputs": [],
   "source": [
    "word_path=os.path.join(Path,'Datasets/datastories.twitter.100d.txt')"
   ]
  },
  {
   "cell_type": "code",
   "execution_count": 17,
   "id": "f820ef2c",
   "metadata": {},
   "outputs": [],
   "source": [
    "embed_matrix = np.zeros((len(index), 100))\n",
    "embed_dict={}\n",
    "for word, i in index.items():\n",
    "    if word in word2vec_model.wv:\n",
    "        embed_matrix[i] = word2vec_model.wv[word]\n",
    "        embed_dict[word] = word2vec_model.wv[word]"
   ]
  },
  {
   "cell_type": "code",
   "execution_count": 18,
   "id": "3c0514fb",
   "metadata": {},
   "outputs": [],
   "source": [
    "del word2vec_model"
   ]
  },
  {
   "cell_type": "code",
   "execution_count": 19,
   "id": "1f5bb152",
   "metadata": {
    "scrolled": true
   },
   "outputs": [],
   "source": [
    "# word = pd.read_table(word_path,sep=' ',header=None)\n",
    "# word.set_index(0,inplace=True)\n",
    "# Embed_dict={}\n",
    "# for i in range(word.shape[0]):\n",
    "#     Embed_dict[word.index[i]]=word.iloc[i,:]"
   ]
  },
  {
   "cell_type": "code",
   "execution_count": 20,
   "id": "eed71ff7",
   "metadata": {},
   "outputs": [],
   "source": [
    "# Embed_path=os.path.join(Path,'Datasets/Embed_dict')\n"
   ]
  },
  {
   "cell_type": "markdown",
   "id": "1c8ded29",
   "metadata": {},
   "source": [
    "### Step3: Training"
   ]
  },
  {
   "cell_type": "code",
   "execution_count": 21,
   "id": "e4e8d7c7",
   "metadata": {
    "scrolled": true
   },
   "outputs": [
    {
     "name": "stderr",
     "output_type": "stream",
     "text": [
      "C:\\Users\\HCY\\AppData\\Roaming\\Python\\Python38\\site-packages\\tqdm\\auto.py:22: TqdmWarning: IProgress not found. Please update jupyter and ipywidgets. See https://ipywidgets.readthedocs.io/en/stable/user_install.html\n",
      "  from .autonotebook import tqdm as notebook_tqdm\n"
     ]
    },
    {
     "name": "stdout",
     "output_type": "stream",
     "text": [
      "Version:  2.6.0\n",
      "Eager mode:  True\n",
      "GPU is available\n"
     ]
    },
    {
     "name": "stderr",
     "output_type": "stream",
     "text": [
      "C:\\Users\\HCY\\AppData\\Local\\Temp\\ipykernel_28292\\281481831.py:23: DeprecationWarning: `set_matplotlib_formats` is deprecated since IPython 7.23, directly use `matplotlib_inline.backend_inline.set_matplotlib_formats()`\n",
      "  display.set_matplotlib_formats('svg')\n"
     ]
    }
   ],
   "source": [
    "from tensorflow.keras.layers import Embedding\n",
    "from tensorflow.keras.models import Sequential\n",
    "from tensorflow.keras.layers import Dense, LSTM, SpatialDropout1D, Bidirectional\n",
    "\n",
    "from tensorflow.keras.preprocessing.text import Tokenizer\n",
    "from tensorflow.keras.preprocessing.sequence import pad_sequences\n",
    "from tensorflow.keras.models import load_model\n",
    "\n",
    "from sklearn.metrics import confusion_matrix, precision_score, recall_score, f1_score\n",
    "from sklearn.model_selection import train_test_split\n",
    "\n",
    "import tensorflow as tf\n",
    "import datetime\n",
    "import keras\n",
    "import seaborn as sns\n",
    "import matplotlib.pyplot as plt\n",
    "from IPython import display\n",
    "import transformers\n",
    "import tensorflow_hub as hub\n",
    "print(\"Version: \", tf.__version__)\n",
    "print(\"Eager mode: \", tf.executing_eagerly())\n",
    "print(\"GPU is\", \"available\" if tf.config.list_physical_devices('GPU') else \"NOT AVAILABLE\")\n",
    "display.set_matplotlib_formats('svg')"
   ]
  },
  {
   "cell_type": "code",
   "execution_count": 22,
   "id": "e0ebf988",
   "metadata": {},
   "outputs": [],
   "source": [
    "import tensorflow_addons as tfa"
   ]
  },
  {
   "cell_type": "code",
   "execution_count": 23,
   "id": "32cc1d04",
   "metadata": {},
   "outputs": [],
   "source": [
    "def tokenizer_lstm(X, vocab, seq_len):\n",
    "    '''\n",
    "    Returns tokenized tensor with left/right padding at the specified sequence length\n",
    "    '''\n",
    "    X_tmp = np.zeros((len(X), seq_len), dtype=np.int64)\n",
    "    for i, text in enumerate(X):\n",
    "        tokens = [word for word in text_processor.pre_process_doc(text) if (word!='s' and word!='\\'')]\n",
    "#         tokens = [word for word in tokens if (word not in stop)]\n",
    "        token_ids = [vocab[word] for word in tokens if word in embed_dict.keys()]###\n",
    "        end_idx = min(len(token_ids), seq_len)\n",
    "        start_idx = max(seq_len - len(token_ids), 0)\n",
    "        X_tmp[i,start_idx:] = token_ids[:end_idx]\n",
    "\n",
    "    return X_tmp"
   ]
  },
  {
   "cell_type": "code",
   "execution_count": 24,
   "id": "74d4ffe7",
   "metadata": {},
   "outputs": [],
   "source": [
    "X=tokenizer_lstm(dataA.Text, vocab, 100)###"
   ]
  },
  {
   "cell_type": "code",
   "execution_count": 25,
   "id": "53a0b04b",
   "metadata": {},
   "outputs": [],
   "source": [
    "Y = tf.one_hot(dataA.label, depth=3)"
   ]
  },
  {
   "cell_type": "code",
   "execution_count": 26,
   "id": "93237066",
   "metadata": {},
   "outputs": [],
   "source": [
    "Y= np.array(Y)\n",
    "X_train, X_test, Y_train, Y_test = train_test_split (X, Y, test_size=0.1, random_state=1000) "
   ]
  },
  {
   "cell_type": "code",
   "execution_count": 27,
   "id": "823b8849",
   "metadata": {},
   "outputs": [],
   "source": [
    "def build_embedding_layer(vocab, embed_dict):\n",
    "    \"\"\"\n",
    "    Build embedding matrix and embedding layer\n",
    "    :param vocab_size: vocabulary size\n",
    "    :param tok: tokenizer\n",
    "    :param embed_dict: embedding index\n",
    "    :return: embedding matrix and embedding layer\n",
    "    \"\"\"\n",
    "    #Build embedding matrix\n",
    "    vocab_size=len(vocab)+1\n",
    "    embedding_matrix = np.zeros((vocab_size, 100))\n",
    "    for word, i in vocab.items():\n",
    "        # Vector corresponds to word\n",
    "        embedding_vector = embed_dict.get(word)###,embed_dict['<unk>']\n",
    "\n",
    "        if embedding_vector is not None:\n",
    "            # Ensure vector of embedding_matrix row matches word index\n",
    "            embedding_matrix[i] = embedding_vector\n",
    "            \n",
    "    # Build embedding layer\n",
    "    embedding_layer = Embedding(input_dim = vocab_size, output_dim = 100, weights = [embedding_matrix], input_length = 100, trainable=False)\n",
    "    return embedding_layer"
   ]
  },
  {
   "cell_type": "code",
   "execution_count": 28,
   "id": "682b9f60",
   "metadata": {},
   "outputs": [],
   "source": [
    "# def build_embedding_layer(vocab, embeddings_index):\n",
    "#     \"\"\"\n",
    "#     Build embedding matrix and embedding layer\n",
    "#     :param vocab_size: vocabulary size\n",
    "#     :param tok: tokenizer\n",
    "#     :param embeddings_index: embedding index\n",
    "#     :return: embedding matrix and embedding layer\n",
    "#     \"\"\"\n",
    "#     #Build embedding matrix\n",
    "#     vocab_size=len(vocab)+1\n",
    "#     embedding_matrix = np.zeros((vocab_size, 100))\n",
    "#     for word, i in vocab.items():\n",
    "#         try:\n",
    "#             # Vector corresponds to word\n",
    "#             embedding_vector = embeddings_index.get(word)\n",
    "#         except:\n",
    "#             embedding_vector = embeddings_index['<unk>']#['unknown']#['<unk>']\n",
    "#         if embedding_vector is not None:\n",
    "#             # Ensure vector of embedding_matrix row matches word index\n",
    "#             embedding_matrix[i] = embedding_vector\n",
    "#     # Build embedding layer\n",
    "#     embedding_layer = Embedding(input_dim = vocab_size, output_dim = 100, weights = [embedding_matrix], input_length = 100, trainable=False)\n",
    "#     return embedding_layer,embedding_matrix"
   ]
  },
  {
   "cell_type": "code",
   "execution_count": 29,
   "id": "23ab1a28",
   "metadata": {},
   "outputs": [],
   "source": [
    "embedding_layer=build_embedding_layer(vocab, embed_dict) ###"
   ]
  },
  {
   "cell_type": "code",
   "execution_count": 30,
   "id": "944e106e",
   "metadata": {},
   "outputs": [],
   "source": [
    "# del embed_dict,embed_matrix#, Embed_dict,embedding_matrix,"
   ]
  },
  {
   "cell_type": "code",
   "execution_count": 50,
   "id": "92d2e103",
   "metadata": {},
   "outputs": [],
   "source": [
    "def model_train(X_train, y_train, embedding_layer):\n",
    "        \"\"\"\n",
    "        Train, validate and test BiLSTM model, calculate accuracy of training and validation set\n",
    "        :param X_train: tweet train data\n",
    "        :param y_train: sentiment label train data\n",
    "        :param embedding_layer: embedding layer\n",
    "        :param X_test: tweet test data\n",
    "        :param y_test: sentiment label test data\n",
    "        :return: accuracy, recall, precision, F1 score and history\n",
    "        \"\"\"\n",
    "        tf.debugging.set_log_device_placement(True)\n",
    "        model = Sequential()\n",
    "        model.add(embedding_layer)\n",
    "        model.add(SpatialDropout1D(0.2))\n",
    "        \n",
    "#         LSTM(128, dropout = 0.2, recurrent_dropout = 0.5)\n",
    "\n",
    "#         LSTM(128,activation='tanh', recurrent_activation='sigmoid',\n",
    "#              use_bias=True,dropout=0.5,recurrent_dropout=0.0)\n",
    "    \n",
    "#         model.add(Bidirectional(LSTM(128,dropout = 0.5,return_sequences=True)))\n",
    "#         model.add(Bidirectional(LSTM(64,dropout = 0.5)))   27  loss: 0.7183 - accuracy: 0.6815 - val_loss: 0.7699 - val_accuracy: 0.6634\n",
    "\n",
    "\n",
    "#         model.add(Bidirectional(LSTM(128,dropout = 0.5))) 26 loss: 0.7517 - accuracy: 0.6596 - val_loss: 0.7827 - val_accuracy: 0.6532\n",
    "        \n",
    "#         model.add(Bidirectional(LSTM(128,dropout = 0.5,return_sequences=True)))\n",
    "#         model.add(Bidirectional(LSTM(128,dropout = 0.0)))   28 loss: 0.6897 - accuracy: 0.6925 - val_loss: 0.7774 - val_accuracy: 0.6610\n",
    "\n",
    "#         model.add(Bidirectional(LSTM(128,dropout = 0.5,return_sequences=True)))\n",
    "#         model.add(Bidirectional(LSTM(64,dropout = 0.5)))  29 loss: 0.7080 - accuracy: 0.6759 - val_loss: 0.7618 - val_accuracy: 0.6653\n",
    "\n",
    "        model.add(Bidirectional(LSTM(128,dropout = 0.5,return_sequences=True)))\n",
    "        model.add(Bidirectional(LSTM(64,dropout = 0.5)))  #27 loss: 0.6735 - accuracy: 0.7028 - val_loss: 0.7640 - val_accuracy: 0.6669\n",
    "\n",
    "#         model.add(Bidirectional(LSTM(128,dropout = 0.3,recurrent_dropout = 0.5)))\n",
    "    \n",
    "        model.add(Dense(3, activation = 'softmax'))\n",
    "        model.summary()\n",
    "        \n",
    "        batch_size = 128\n",
    "        epochs = 50\n",
    "\n",
    "        model.compile(optimizer='adam', loss='categorical_crossentropy', \n",
    "                      metrics = ['Recall','Accuracy','Precision'])\n",
    "        history = model.fit(X_train, y_train, validation_split = 0.2, epochs = epochs, batch_size = batch_size)\n",
    "        model.save('taskA.h5'.format(25))\n",
    "        train_acc = history.history['Accuracy'][-1]\n",
    "        val_acc = history.history['val_Accuracy'][-1]\n",
    "        \n",
    "        train_rec = history.history['recall'][-1]\n",
    "        val_rec = history.history['val_recall'][-1]\n",
    "        \n",
    "        train_pre = history.history['precision'][-1]\n",
    "        val_pre = history.history['val_precision'][-1]\n",
    "        return train_acc, val_acc, train_rec, val_rec, train_pre, val_pre,history"
   ]
  },
  {
   "cell_type": "code",
   "execution_count": 51,
   "id": "850fa6a6",
   "metadata": {
    "scrolled": false
   },
   "outputs": [
    {
     "name": "stdout",
     "output_type": "stream",
     "text": [
      "Model: \"sequential_8\"\n",
      "_________________________________________________________________\n",
      "Layer (type)                 Output Shape              Param #   \n",
      "=================================================================\n",
      "embedding (Embedding)        (None, 100, 100)          2205500   \n",
      "_________________________________________________________________\n",
      "spatial_dropout1d_7 (Spatial (None, 100, 100)          0         \n",
      "_________________________________________________________________\n",
      "bidirectional_14 (Bidirectio (None, 100, 256)          234496    \n",
      "_________________________________________________________________\n",
      "bidirectional_15 (Bidirectio (None, 128)               164352    \n",
      "_________________________________________________________________\n",
      "dense_7 (Dense)              (None, 3)                 387       \n",
      "=================================================================\n",
      "Total params: 2,604,735\n",
      "Trainable params: 399,235\n",
      "Non-trainable params: 2,205,500\n",
      "_________________________________________________________________\n",
      "Epoch 1/50\n",
      "117/117 [==============================] - 9s 45ms/step - loss: 0.9203 - recall: 0.3862 - Accuracy: 0.5500 - precision: 0.6013 - val_loss: 0.8053 - val_recall: 0.5240 - val_Accuracy: 0.6335 - val_precision: 0.6795\n",
      "Epoch 2/50\n",
      "117/117 [==============================] - 4s 36ms/step - loss: 0.8538 - recall: 0.4791 - Accuracy: 0.5922 - precision: 0.6385 - val_loss: 0.7814 - val_recall: 0.5135 - val_Accuracy: 0.6430 - val_precision: 0.7108\n",
      "Epoch 3/50\n",
      "117/117 [==============================] - 4s 36ms/step - loss: 0.8266 - recall: 0.5091 - Accuracy: 0.6118 - precision: 0.6587 - val_loss: 0.7658 - val_recall: 0.5732 - val_Accuracy: 0.6511 - val_precision: 0.6951\n",
      "Epoch 4/50\n",
      "117/117 [==============================] - 4s 36ms/step - loss: 0.8106 - recall: 0.5228 - Accuracy: 0.6196 - precision: 0.6639 - val_loss: 0.7789 - val_recall: 0.5258 - val_Accuracy: 0.6263 - val_precision: 0.6812\n",
      "Epoch 5/50\n",
      "117/117 [==============================] - 4s 36ms/step - loss: 0.8015 - recall: 0.5361 - Accuracy: 0.6262 - precision: 0.6719 - val_loss: 0.7718 - val_recall: 0.5323 - val_Accuracy: 0.6362 - val_precision: 0.6843\n",
      "Epoch 6/50\n",
      "117/117 [==============================] - 4s 36ms/step - loss: 0.7911 - recall: 0.5447 - Accuracy: 0.6354 - precision: 0.6759 - val_loss: 0.7672 - val_recall: 0.5703 - val_Accuracy: 0.6414 - val_precision: 0.6837\n",
      "Epoch 7/50\n",
      "117/117 [==============================] - 4s 36ms/step - loss: 0.7823 - recall: 0.5519 - Accuracy: 0.6371 - precision: 0.6808 - val_loss: 0.7539 - val_recall: 0.5942 - val_Accuracy: 0.6513 - val_precision: 0.6858\n",
      "Epoch 8/50\n",
      "117/117 [==============================] - 4s 36ms/step - loss: 0.7733 - recall: 0.5612 - Accuracy: 0.6458 - precision: 0.6840 - val_loss: 0.7587 - val_recall: 0.6109 - val_Accuracy: 0.6527 - val_precision: 0.6828\n",
      "Epoch 9/50\n",
      "117/117 [==============================] - 4s 36ms/step - loss: 0.7641 - recall: 0.5652 - Accuracy: 0.6470 - precision: 0.6944 - val_loss: 0.7571 - val_recall: 0.5977 - val_Accuracy: 0.6489 - val_precision: 0.6691\n",
      "Epoch 10/50\n",
      "117/117 [==============================] - 4s 36ms/step - loss: 0.7631 - recall: 0.5724 - Accuracy: 0.6463 - precision: 0.6837 - val_loss: 0.7470 - val_recall: 0.6055 - val_Accuracy: 0.6618 - val_precision: 0.6882\n",
      "Epoch 11/50\n",
      "117/117 [==============================] - 4s 36ms/step - loss: 0.7488 - recall: 0.5894 - Accuracy: 0.6585 - precision: 0.6989 - val_loss: 0.7364 - val_recall: 0.6090 - val_Accuracy: 0.6669 - val_precision: 0.6886\n",
      "Epoch 12/50\n",
      "117/117 [==============================] - 4s 36ms/step - loss: 0.7449 - recall: 0.5883 - Accuracy: 0.6612 - precision: 0.7006 - val_loss: 0.7450 - val_recall: 0.6131 - val_Accuracy: 0.6570 - val_precision: 0.6821\n",
      "Epoch 13/50\n",
      "117/117 [==============================] - 4s 36ms/step - loss: 0.7407 - recall: 0.5870 - Accuracy: 0.6610 - precision: 0.7005 - val_loss: 0.7885 - val_recall: 0.6185 - val_Accuracy: 0.6497 - val_precision: 0.6679\n",
      "Epoch 14/50\n",
      "117/117 [==============================] - 4s 37ms/step - loss: 0.7397 - recall: 0.5926 - Accuracy: 0.6645 - precision: 0.7042 - val_loss: 0.7610 - val_recall: 0.6155 - val_Accuracy: 0.6546 - val_precision: 0.6763\n",
      "Epoch 15/50\n",
      "117/117 [==============================] - 4s 36ms/step - loss: 0.7401 - recall: 0.5924 - Accuracy: 0.6605 - precision: 0.7013 - val_loss: 0.7496 - val_recall: 0.6214 - val_Accuracy: 0.6597 - val_precision: 0.6782\n",
      "Epoch 16/50\n",
      "117/117 [==============================] - 4s 36ms/step - loss: 0.7227 - recall: 0.6015 - Accuracy: 0.6692 - precision: 0.7078 - val_loss: 0.7653 - val_recall: 0.6357 - val_Accuracy: 0.6659 - val_precision: 0.6802\n",
      "Epoch 17/50\n",
      "117/117 [==============================] - 4s 36ms/step - loss: 0.7195 - recall: 0.6142 - Accuracy: 0.6766 - precision: 0.7117 - val_loss: 0.7563 - val_recall: 0.6282 - val_Accuracy: 0.6669 - val_precision: 0.6836\n",
      "Epoch 18/50\n",
      "117/117 [==============================] - 4s 37ms/step - loss: 0.7196 - recall: 0.6064 - Accuracy: 0.6718 - precision: 0.7104 - val_loss: 0.7800 - val_recall: 0.6074 - val_Accuracy: 0.6451 - val_precision: 0.6679\n",
      "Epoch 19/50\n",
      "117/117 [==============================] - 4s 36ms/step - loss: 0.7105 - recall: 0.6160 - Accuracy: 0.6771 - precision: 0.7142 - val_loss: 0.7690 - val_recall: 0.6405 - val_Accuracy: 0.6686 - val_precision: 0.6805\n",
      "Epoch 20/50\n",
      "117/117 [==============================] - 4s 37ms/step - loss: 0.7124 - recall: 0.6186 - Accuracy: 0.6742 - precision: 0.7130 - val_loss: 0.7693 - val_recall: 0.6306 - val_Accuracy: 0.6613 - val_precision: 0.6788\n",
      "Epoch 21/50\n",
      "117/117 [==============================] - 4s 36ms/step - loss: 0.7076 - recall: 0.6176 - Accuracy: 0.6795 - precision: 0.7191 - val_loss: 0.7625 - val_recall: 0.6107 - val_Accuracy: 0.6583 - val_precision: 0.6835\n",
      "Epoch 22/50\n",
      "117/117 [==============================] - 4s 36ms/step - loss: 0.7051 - recall: 0.6117 - Accuracy: 0.6784 - precision: 0.7157 - val_loss: 0.7865 - val_recall: 0.6190 - val_Accuracy: 0.6556 - val_precision: 0.6762\n",
      "Epoch 23/50\n",
      "117/117 [==============================] - 4s 36ms/step - loss: 0.6972 - recall: 0.6229 - Accuracy: 0.6842 - precision: 0.7237 - val_loss: 0.7805 - val_recall: 0.6306 - val_Accuracy: 0.6607 - val_precision: 0.6751\n",
      "Epoch 24/50\n",
      "117/117 [==============================] - 4s 36ms/step - loss: 0.6990 - recall: 0.6283 - Accuracy: 0.6857 - precision: 0.7228 - val_loss: 0.7755 - val_recall: 0.6230 - val_Accuracy: 0.6586 - val_precision: 0.6790\n",
      "Epoch 25/50\n",
      "117/117 [==============================] - 4s 37ms/step - loss: 0.6935 - recall: 0.6303 - Accuracy: 0.6898 - precision: 0.7243 - val_loss: 0.7645 - val_recall: 0.6271 - val_Accuracy: 0.6661 - val_precision: 0.6866\n",
      "Epoch 26/50\n",
      "117/117 [==============================] - 4s 36ms/step - loss: 0.6917 - recall: 0.6317 - Accuracy: 0.6874 - precision: 0.7242 - val_loss: 0.7638 - val_recall: 0.6306 - val_Accuracy: 0.6621 - val_precision: 0.6790\n",
      "Epoch 27/50\n",
      "117/117 [==============================] - 4s 37ms/step - loss: 0.6882 - recall: 0.6332 - Accuracy: 0.6933 - precision: 0.7268 - val_loss: 0.7764 - val_recall: 0.6309 - val_Accuracy: 0.6567 - val_precision: 0.6719\n",
      "Epoch 28/50\n",
      "117/117 [==============================] - 4s 37ms/step - loss: 0.6892 - recall: 0.6299 - Accuracy: 0.6843 - precision: 0.7251 - val_loss: 0.7602 - val_recall: 0.6252 - val_Accuracy: 0.6626 - val_precision: 0.6825\n",
      "Epoch 29/50\n",
      "117/117 [==============================] - 4s 37ms/step - loss: 0.6857 - recall: 0.6323 - Accuracy: 0.6904 - precision: 0.7299 - val_loss: 0.7679 - val_recall: 0.6220 - val_Accuracy: 0.6618 - val_precision: 0.6810\n",
      "Epoch 30/50\n",
      "117/117 [==============================] - 4s 36ms/step - loss: 0.6724 - recall: 0.6498 - Accuracy: 0.7028 - precision: 0.7377 - val_loss: 0.7785 - val_recall: 0.6292 - val_Accuracy: 0.6589 - val_precision: 0.6813\n",
      "Epoch 31/50\n",
      "117/117 [==============================] - 5s 44ms/step - loss: 0.6709 - recall: 0.6496 - Accuracy: 0.7027 - precision: 0.7347 - val_loss: 0.7816 - val_recall: 0.6411 - val_Accuracy: 0.6688 - val_precision: 0.6834\n",
      "Epoch 32/50\n",
      "117/117 [==============================] - 5s 40ms/step - loss: 0.6789 - recall: 0.6445 - Accuracy: 0.6968 - precision: 0.7312 - val_loss: 0.7773 - val_recall: 0.6370 - val_Accuracy: 0.6653 - val_precision: 0.6799\n"
     ]
    },
    {
     "name": "stdout",
     "output_type": "stream",
     "text": [
      "Epoch 33/50\n",
      "117/117 [==============================] - 4s 35ms/step - loss: 0.6699 - recall: 0.6476 - Accuracy: 0.6983 - precision: 0.7313 - val_loss: 0.7796 - val_recall: 0.6252 - val_Accuracy: 0.6572 - val_precision: 0.6791\n",
      "Epoch 34/50\n",
      "117/117 [==============================] - 4s 35ms/step - loss: 0.6606 - recall: 0.6517 - Accuracy: 0.7029 - precision: 0.7344 - val_loss: 0.7913 - val_recall: 0.6449 - val_Accuracy: 0.6688 - val_precision: 0.6789\n",
      "Epoch 35/50\n",
      "117/117 [==============================] - 4s 35ms/step - loss: 0.6615 - recall: 0.6483 - Accuracy: 0.7024 - precision: 0.7366 - val_loss: 0.7751 - val_recall: 0.6360 - val_Accuracy: 0.6599 - val_precision: 0.6813\n",
      "Epoch 36/50\n",
      "117/117 [==============================] - 4s 35ms/step - loss: 0.6644 - recall: 0.6517 - Accuracy: 0.7012 - precision: 0.7362 - val_loss: 0.7898 - val_recall: 0.6322 - val_Accuracy: 0.6616 - val_precision: 0.6788\n",
      "Epoch 37/50\n",
      "117/117 [==============================] - 4s 34ms/step - loss: 0.6574 - recall: 0.6602 - Accuracy: 0.7138 - precision: 0.7437 - val_loss: 0.7911 - val_recall: 0.6352 - val_Accuracy: 0.6634 - val_precision: 0.6788\n",
      "Epoch 38/50\n",
      "117/117 [==============================] - 4s 34ms/step - loss: 0.6510 - recall: 0.6618 - Accuracy: 0.7109 - precision: 0.7429 - val_loss: 0.8079 - val_recall: 0.6335 - val_Accuracy: 0.6597 - val_precision: 0.6783\n",
      "Epoch 39/50\n",
      "117/117 [==============================] - 4s 34ms/step - loss: 0.6550 - recall: 0.6581 - Accuracy: 0.7107 - precision: 0.7422 - val_loss: 0.7993 - val_recall: 0.6354 - val_Accuracy: 0.6594 - val_precision: 0.6772\n",
      "Epoch 40/50\n",
      "117/117 [==============================] - 4s 35ms/step - loss: 0.6557 - recall: 0.6573 - Accuracy: 0.7090 - precision: 0.7389 - val_loss: 0.7890 - val_recall: 0.6497 - val_Accuracy: 0.6721 - val_precision: 0.6879\n",
      "Epoch 41/50\n",
      "117/117 [==============================] - 4s 34ms/step - loss: 0.6511 - recall: 0.6621 - Accuracy: 0.7135 - precision: 0.7441 - val_loss: 0.7977 - val_recall: 0.6403 - val_Accuracy: 0.6634 - val_precision: 0.6783\n",
      "Epoch 42/50\n",
      "117/117 [==============================] - 4s 34ms/step - loss: 0.6444 - recall: 0.6653 - Accuracy: 0.7121 - precision: 0.7462 - val_loss: 0.7984 - val_recall: 0.6349 - val_Accuracy: 0.6642 - val_precision: 0.6805\n",
      "Epoch 43/50\n",
      "117/117 [==============================] - 4s 34ms/step - loss: 0.6423 - recall: 0.6643 - Accuracy: 0.7121 - precision: 0.7463 - val_loss: 0.7962 - val_recall: 0.6403 - val_Accuracy: 0.6632 - val_precision: 0.6773\n",
      "Epoch 44/50\n",
      "117/117 [==============================] - 4s 35ms/step - loss: 0.6395 - recall: 0.6709 - Accuracy: 0.7184 - precision: 0.7490 - val_loss: 0.7977 - val_recall: 0.6381 - val_Accuracy: 0.6605 - val_precision: 0.6812\n",
      "Epoch 45/50\n",
      "117/117 [==============================] - 4s 34ms/step - loss: 0.6462 - recall: 0.6707 - Accuracy: 0.7184 - precision: 0.7481 - val_loss: 0.8038 - val_recall: 0.6397 - val_Accuracy: 0.6616 - val_precision: 0.6785\n",
      "Epoch 46/50\n",
      "117/117 [==============================] - 4s 34ms/step - loss: 0.6409 - recall: 0.6670 - Accuracy: 0.7134 - precision: 0.7462 - val_loss: 0.8056 - val_recall: 0.6432 - val_Accuracy: 0.6672 - val_precision: 0.6808\n",
      "Epoch 47/50\n",
      "117/117 [==============================] - 4s 34ms/step - loss: 0.6335 - recall: 0.6719 - Accuracy: 0.7193 - precision: 0.7486 - val_loss: 0.8054 - val_recall: 0.6349 - val_Accuracy: 0.6659 - val_precision: 0.6801\n",
      "Epoch 48/50\n",
      "117/117 [==============================] - 4s 34ms/step - loss: 0.6375 - recall: 0.6682 - Accuracy: 0.7158 - precision: 0.7465 - val_loss: 0.8236 - val_recall: 0.6427 - val_Accuracy: 0.6607 - val_precision: 0.6779\n",
      "Epoch 49/50\n",
      "117/117 [==============================] - 4s 34ms/step - loss: 0.6330 - recall: 0.6723 - Accuracy: 0.7207 - precision: 0.7514 - val_loss: 0.7994 - val_recall: 0.6341 - val_Accuracy: 0.6624 - val_precision: 0.6797\n",
      "Epoch 50/50\n",
      "117/117 [==============================] - 4s 34ms/step - loss: 0.6293 - recall: 0.6775 - Accuracy: 0.7179 - precision: 0.7466 - val_loss: 0.8085 - val_recall: 0.6330 - val_Accuracy: 0.6605 - val_precision: 0.6727\n"
     ]
    }
   ],
   "source": [
    "train_acc, val_acc, train_rec, val_rec, train_pre, val_pre,history= model_train(X_train, Y_train, embedding_layer)"
   ]
  },
  {
   "cell_type": "code",
   "execution_count": null,
   "id": "871fec91",
   "metadata": {},
   "outputs": [],
   "source": [
    "class_names = ['0: Negative','1: Neutra;', '2: Positive']\n",
    "\n",
    "model = load_model('taskA.h5')\n",
    "Y_pred = model.predict(X_test)\n",
    "Metrcs = model.evaluate(X_test, Y_test, return_dict=True)"
   ]
  },
  {
   "cell_type": "code",
   "execution_count": null,
   "id": "0ef5c4c6",
   "metadata": {},
   "outputs": [],
   "source": [
    "Y_pred"
   ]
  },
  {
   "cell_type": "code",
   "execution_count": null,
   "id": "be32702d",
   "metadata": {},
   "outputs": [],
   "source": [
    "def pred_eval(model):\n",
    "    Y_pred = model.predict(X_test)\n",
    "    Metrcs = model.evaluate(X_test, Y_test, return_dict=True)\n",
    "    \n",
    "    return"
   ]
  }
 ],
 "metadata": {
  "kernelspec": {
   "display_name": "Python 3 (ipykernel)",
   "language": "python",
   "name": "python3"
  },
  "language_info": {
   "codemirror_mode": {
    "name": "ipython",
    "version": 3
   },
   "file_extension": ".py",
   "mimetype": "text/x-python",
   "name": "python",
   "nbconvert_exporter": "python",
   "pygments_lexer": "ipython3",
   "version": "3.8.13"
  },
  "varInspector": {
   "cols": {
    "lenName": 16,
    "lenType": 16,
    "lenVar": 40
   },
   "kernels_config": {
    "python": {
     "delete_cmd_postfix": "",
     "delete_cmd_prefix": "del ",
     "library": "var_list.py",
     "varRefreshCmd": "print(var_dic_list())"
    },
    "r": {
     "delete_cmd_postfix": ") ",
     "delete_cmd_prefix": "rm(",
     "library": "var_list.r",
     "varRefreshCmd": "cat(var_dic_list()) "
    }
   },
   "types_to_exclude": [
    "module",
    "function",
    "builtin_function_or_method",
    "instance",
    "_Feature"
   ],
   "window_display": false
  }
 },
 "nbformat": 4,
 "nbformat_minor": 5
}
